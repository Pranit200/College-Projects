{
 "cells": [
  {
   "cell_type": "code",
   "execution_count": 1,
   "metadata": {},
   "outputs": [],
   "source": [
    "import pandas as pd\n",
    "import matplotlib.pyplot as plt\n",
    "import seaborn as sns\n",
    "import numpy as np"
   ]
  },
  {
   "cell_type": "code",
   "execution_count": 2,
   "metadata": {
    "scrolled": true
   },
   "outputs": [
    {
     "data": {
      "text/html": [
       "<div>\n",
       "<style scoped>\n",
       "    .dataframe tbody tr th:only-of-type {\n",
       "        vertical-align: middle;\n",
       "    }\n",
       "\n",
       "    .dataframe tbody tr th {\n",
       "        vertical-align: top;\n",
       "    }\n",
       "\n",
       "    .dataframe thead th {\n",
       "        text-align: right;\n",
       "    }\n",
       "</style>\n",
       "<table border=\"1\" class=\"dataframe\">\n",
       "  <thead>\n",
       "    <tr style=\"text-align: right;\">\n",
       "      <th></th>\n",
       "      <th>age</th>\n",
       "      <th>workclass</th>\n",
       "      <th>fnlwgt</th>\n",
       "      <th>education</th>\n",
       "      <th>educational-num</th>\n",
       "      <th>marital-status</th>\n",
       "      <th>occupation</th>\n",
       "      <th>relationship</th>\n",
       "      <th>race</th>\n",
       "      <th>gender</th>\n",
       "      <th>capital-gain</th>\n",
       "      <th>capital-loss</th>\n",
       "      <th>hours-per-week</th>\n",
       "      <th>native-country</th>\n",
       "      <th>income</th>\n",
       "    </tr>\n",
       "  </thead>\n",
       "  <tbody>\n",
       "    <tr>\n",
       "      <th>0</th>\n",
       "      <td>39</td>\n",
       "      <td>State-gov</td>\n",
       "      <td>77516</td>\n",
       "      <td>Bachelors</td>\n",
       "      <td>13</td>\n",
       "      <td>Never-married</td>\n",
       "      <td>Adm-clerical</td>\n",
       "      <td>Not-in-family</td>\n",
       "      <td>White</td>\n",
       "      <td>Male</td>\n",
       "      <td>2174</td>\n",
       "      <td>0</td>\n",
       "      <td>40</td>\n",
       "      <td>United-States</td>\n",
       "      <td>&lt;=50K</td>\n",
       "    </tr>\n",
       "    <tr>\n",
       "      <th>1</th>\n",
       "      <td>50</td>\n",
       "      <td>Self-emp-not-inc</td>\n",
       "      <td>83311</td>\n",
       "      <td>Bachelors</td>\n",
       "      <td>13</td>\n",
       "      <td>Married-civ-spouse</td>\n",
       "      <td>Exec-managerial</td>\n",
       "      <td>Husband</td>\n",
       "      <td>White</td>\n",
       "      <td>Male</td>\n",
       "      <td>0</td>\n",
       "      <td>0</td>\n",
       "      <td>13</td>\n",
       "      <td>United-States</td>\n",
       "      <td>&lt;=50K</td>\n",
       "    </tr>\n",
       "    <tr>\n",
       "      <th>2</th>\n",
       "      <td>38</td>\n",
       "      <td>Private</td>\n",
       "      <td>215646</td>\n",
       "      <td>HS-grad</td>\n",
       "      <td>9</td>\n",
       "      <td>Divorced</td>\n",
       "      <td>Handlers-cleaners</td>\n",
       "      <td>Not-in-family</td>\n",
       "      <td>White</td>\n",
       "      <td>Male</td>\n",
       "      <td>0</td>\n",
       "      <td>0</td>\n",
       "      <td>40</td>\n",
       "      <td>United-States</td>\n",
       "      <td>&lt;=50K</td>\n",
       "    </tr>\n",
       "    <tr>\n",
       "      <th>3</th>\n",
       "      <td>53</td>\n",
       "      <td>Private</td>\n",
       "      <td>234721</td>\n",
       "      <td>11th</td>\n",
       "      <td>7</td>\n",
       "      <td>Married-civ-spouse</td>\n",
       "      <td>Handlers-cleaners</td>\n",
       "      <td>Husband</td>\n",
       "      <td>Black</td>\n",
       "      <td>Male</td>\n",
       "      <td>0</td>\n",
       "      <td>0</td>\n",
       "      <td>40</td>\n",
       "      <td>United-States</td>\n",
       "      <td>&lt;=50K</td>\n",
       "    </tr>\n",
       "    <tr>\n",
       "      <th>4</th>\n",
       "      <td>28</td>\n",
       "      <td>Private</td>\n",
       "      <td>338409</td>\n",
       "      <td>Bachelors</td>\n",
       "      <td>13</td>\n",
       "      <td>Married-civ-spouse</td>\n",
       "      <td>Prof-specialty</td>\n",
       "      <td>Wife</td>\n",
       "      <td>Black</td>\n",
       "      <td>Female</td>\n",
       "      <td>0</td>\n",
       "      <td>0</td>\n",
       "      <td>40</td>\n",
       "      <td>Cuba</td>\n",
       "      <td>&lt;=50K</td>\n",
       "    </tr>\n",
       "    <tr>\n",
       "      <th>...</th>\n",
       "      <td>...</td>\n",
       "      <td>...</td>\n",
       "      <td>...</td>\n",
       "      <td>...</td>\n",
       "      <td>...</td>\n",
       "      <td>...</td>\n",
       "      <td>...</td>\n",
       "      <td>...</td>\n",
       "      <td>...</td>\n",
       "      <td>...</td>\n",
       "      <td>...</td>\n",
       "      <td>...</td>\n",
       "      <td>...</td>\n",
       "      <td>...</td>\n",
       "      <td>...</td>\n",
       "    </tr>\n",
       "    <tr>\n",
       "      <th>32556</th>\n",
       "      <td>27</td>\n",
       "      <td>Private</td>\n",
       "      <td>257302</td>\n",
       "      <td>Assoc-acdm</td>\n",
       "      <td>12</td>\n",
       "      <td>Married-civ-spouse</td>\n",
       "      <td>Tech-support</td>\n",
       "      <td>Wife</td>\n",
       "      <td>White</td>\n",
       "      <td>Female</td>\n",
       "      <td>0</td>\n",
       "      <td>0</td>\n",
       "      <td>38</td>\n",
       "      <td>United-States</td>\n",
       "      <td>&lt;=50K</td>\n",
       "    </tr>\n",
       "    <tr>\n",
       "      <th>32557</th>\n",
       "      <td>40</td>\n",
       "      <td>Private</td>\n",
       "      <td>154374</td>\n",
       "      <td>HS-grad</td>\n",
       "      <td>9</td>\n",
       "      <td>Married-civ-spouse</td>\n",
       "      <td>Machine-op-inspct</td>\n",
       "      <td>Husband</td>\n",
       "      <td>White</td>\n",
       "      <td>Male</td>\n",
       "      <td>0</td>\n",
       "      <td>0</td>\n",
       "      <td>40</td>\n",
       "      <td>United-States</td>\n",
       "      <td>&gt;50K</td>\n",
       "    </tr>\n",
       "    <tr>\n",
       "      <th>32558</th>\n",
       "      <td>58</td>\n",
       "      <td>Private</td>\n",
       "      <td>151910</td>\n",
       "      <td>HS-grad</td>\n",
       "      <td>9</td>\n",
       "      <td>Widowed</td>\n",
       "      <td>Adm-clerical</td>\n",
       "      <td>Unmarried</td>\n",
       "      <td>White</td>\n",
       "      <td>Female</td>\n",
       "      <td>0</td>\n",
       "      <td>0</td>\n",
       "      <td>40</td>\n",
       "      <td>United-States</td>\n",
       "      <td>&lt;=50K</td>\n",
       "    </tr>\n",
       "    <tr>\n",
       "      <th>32559</th>\n",
       "      <td>22</td>\n",
       "      <td>Private</td>\n",
       "      <td>201490</td>\n",
       "      <td>HS-grad</td>\n",
       "      <td>9</td>\n",
       "      <td>Never-married</td>\n",
       "      <td>Adm-clerical</td>\n",
       "      <td>Own-child</td>\n",
       "      <td>White</td>\n",
       "      <td>Male</td>\n",
       "      <td>0</td>\n",
       "      <td>0</td>\n",
       "      <td>20</td>\n",
       "      <td>United-States</td>\n",
       "      <td>&lt;=50K</td>\n",
       "    </tr>\n",
       "    <tr>\n",
       "      <th>32560</th>\n",
       "      <td>52</td>\n",
       "      <td>Self-emp-inc</td>\n",
       "      <td>287927</td>\n",
       "      <td>HS-grad</td>\n",
       "      <td>9</td>\n",
       "      <td>Married-civ-spouse</td>\n",
       "      <td>Exec-managerial</td>\n",
       "      <td>Wife</td>\n",
       "      <td>White</td>\n",
       "      <td>Female</td>\n",
       "      <td>15024</td>\n",
       "      <td>0</td>\n",
       "      <td>40</td>\n",
       "      <td>United-States</td>\n",
       "      <td>&gt;50K</td>\n",
       "    </tr>\n",
       "  </tbody>\n",
       "</table>\n",
       "<p>32561 rows × 15 columns</p>\n",
       "</div>"
      ],
      "text/plain": [
       "       age          workclass  fnlwgt    education  educational-num  \\\n",
       "0       39          State-gov   77516    Bachelors               13   \n",
       "1       50   Self-emp-not-inc   83311    Bachelors               13   \n",
       "2       38            Private  215646      HS-grad                9   \n",
       "3       53            Private  234721         11th                7   \n",
       "4       28            Private  338409    Bachelors               13   \n",
       "...    ...                ...     ...          ...              ...   \n",
       "32556   27            Private  257302   Assoc-acdm               12   \n",
       "32557   40            Private  154374      HS-grad                9   \n",
       "32558   58            Private  151910      HS-grad                9   \n",
       "32559   22            Private  201490      HS-grad                9   \n",
       "32560   52       Self-emp-inc  287927      HS-grad                9   \n",
       "\n",
       "            marital-status          occupation    relationship    race  \\\n",
       "0            Never-married        Adm-clerical   Not-in-family   White   \n",
       "1       Married-civ-spouse     Exec-managerial         Husband   White   \n",
       "2                 Divorced   Handlers-cleaners   Not-in-family   White   \n",
       "3       Married-civ-spouse   Handlers-cleaners         Husband   Black   \n",
       "4       Married-civ-spouse      Prof-specialty            Wife   Black   \n",
       "...                    ...                 ...             ...     ...   \n",
       "32556   Married-civ-spouse        Tech-support            Wife   White   \n",
       "32557   Married-civ-spouse   Machine-op-inspct         Husband   White   \n",
       "32558              Widowed        Adm-clerical       Unmarried   White   \n",
       "32559        Never-married        Adm-clerical       Own-child   White   \n",
       "32560   Married-civ-spouse     Exec-managerial            Wife   White   \n",
       "\n",
       "        gender  capital-gain  capital-loss  hours-per-week  native-country  \\\n",
       "0         Male          2174             0              40   United-States   \n",
       "1         Male             0             0              13   United-States   \n",
       "2         Male             0             0              40   United-States   \n",
       "3         Male             0             0              40   United-States   \n",
       "4       Female             0             0              40            Cuba   \n",
       "...        ...           ...           ...             ...             ...   \n",
       "32556   Female             0             0              38   United-States   \n",
       "32557     Male             0             0              40   United-States   \n",
       "32558   Female             0             0              40   United-States   \n",
       "32559     Male             0             0              20   United-States   \n",
       "32560   Female         15024             0              40   United-States   \n",
       "\n",
       "       income  \n",
       "0       <=50K  \n",
       "1       <=50K  \n",
       "2       <=50K  \n",
       "3       <=50K  \n",
       "4       <=50K  \n",
       "...       ...  \n",
       "32556   <=50K  \n",
       "32557    >50K  \n",
       "32558   <=50K  \n",
       "32559   <=50K  \n",
       "32560    >50K  \n",
       "\n",
       "[32561 rows x 15 columns]"
      ]
     },
     "execution_count": 2,
     "metadata": {},
     "output_type": "execute_result"
    }
   ],
   "source": [
    "data=pd.read_csv('C:\\\\Users\\\\Lenovo\\\\OneDrive\\\\Desktop\\\\New folder\\\\Adult Income\\\\Adult\\\\archive (1)\\\\adult_test.csv1')\n",
    "\n",
    "data"
   ]
  },
  {
   "cell_type": "code",
   "execution_count": 3,
   "metadata": {},
   "outputs": [],
   "source": [
    "# Replace the values in the 'fruit' column\n",
    "data['workclass'].replace({' State-gov': 'State-gov', ' Private': 'Private',' Self-emp-not-inc': 'Self-emp-not-inc',' Federal-gov': 'Federal-gov',' Local-gov': 'Local-gov',' ?': '?',' Self-emp-inc': 'Self-emp-inc',' Without-pay': 'Without-pay',' Never-worked': 'Never-worked',}, inplace=True)\n",
    "data['education'].replace({' Bachelors': 'Bachelors', ' HS-grad': 'HS-grad',' 11th': '11th',' Masters': 'Masters',' 9th': '9th',' Some-college': 'Some-college',' Assoc-acdm': 'Assoc-acdm',' Assoc-voc': 'Assoc-voc',' 7th-8th': '7th-8th',' Doctorate': 'Doctorate',' Prof-school': 'Prof-school',' 5th-6th': '5th-6th',' 10th': '10th',' 1st-4th': '1st-4th',' Preschool': 'Preschool',' 12th': '12th'}, inplace=True)\n",
    "data['marital-status'].replace({' Never-married': 'Never-married', ' Married-civ-spouse': 'Married-civ-spouse',' Divorced': 'Divorced',' Married-spouse-absent': 'Married-spouse-absent',' Separated': 'Separated',' Married-AF-spouse': 'Married-AF-spouse',' Widowed': 'Widowed'}, inplace=True)\n",
    "data['occupation'].replace({' Adm-clerical': 'Adm-clerical', ' Exec-managerial': 'Exec-managerial',' Handlers-cleaners': 'Handlers-cleaners',' Prof-specialty': 'Prof-specialty',' Other-service': 'Other-service',' Sales': 'Sales',' Craft-repair': 'Craft-repair',' Transport-moving': 'Transport-moving',' Farming-fishing': 'Farming-fishing',' Machine-op-inspct': 'Machine-op-inspct',' Tech-support': 'Tech-support',' ?': '?',' Protective-serv': 'Protective-serv',' Armed-Forces': 'Armed-Forces',' Priv-house-serv': 'Priv-house-serv'}, inplace=True)\n",
    "data['relationship'].replace({' Not-in-family': 'Not-in-family', ' Husband': 'Husband',' Wife': 'Wife',' Own-child': 'Own-child',' Unmarried': 'Unmarried',' Other-relative': 'Other-relative'}, inplace=True)\n",
    "data['race'].replace({' White': 'White', ' Black': 'Black',' Asian-Pac-Islander': 'Asian-Pac-Islander',' Amer-Indian-Eskimo': 'Amer-Indian-Eskimo',' Other': 'Other'}, inplace=True)\n",
    "data['gender'].replace({' Male': 'Male', ' Female': 'Female'}, inplace=True)\n",
    "data['native-country'].replace({' United-States': 'United-States', ' Cuba': 'Cuba',' Jamaica': 'Jamaica',' India': 'India',' ?': '?',' Mexico': 'Mexico',' South': 'South',' Puerto-Rico': 'Puerto-Rico',' Honduras': 'Honduras',' England': 'England',' Canada': 'Canada',' Germany': 'Germany',' Iran': 'Iran',' Philippines': 'Philippines',' Italy': 'Italy',' Poland': 'Poland',' Columbia': 'Columbia',' Thailand': 'Thailand',' Cambodia': 'Cambodia',' Ecuador': 'Ecuador',' Laos': 'Laos',' Taiwan': 'Taiwan',' Haiti': 'Haiti',' Portugal': 'Portugal',' Dominican-Republic': 'Dominican-Republic',' El-Salvador': 'El-Salvador',' France': 'France',' Guatemala': 'Guatemala',' China': 'China',' Japan': 'Japan',' Yugoslavia': 'Yugoslavia',' Peru': 'Peru',' Outlying-US(Guam-USVI-etc)': 'Outlying-US(Guam-USVI-etc)',' Scotland': 'Scotland',' Trinadad&Tobago': 'Trinadad&Tobago',' Greece': 'Greece',' Nicaragua': 'Nicaragua',' Vietnam': 'Vietnam',' Hong': 'Hong',' Ireland': 'Ireland',' Hungary': 'Hungary',' Holand-Netherlands': 'Holand-Netherlands',}, inplace=True)\n",
    "data['income'].replace({' <=50K': '<=50K', ' >50K': '>50K'}, inplace=True)"
   ]
  },
  {
   "cell_type": "code",
   "execution_count": 4,
   "metadata": {
    "scrolled": true
   },
   "outputs": [
    {
     "data": {
      "text/html": [
       "<div>\n",
       "<style scoped>\n",
       "    .dataframe tbody tr th:only-of-type {\n",
       "        vertical-align: middle;\n",
       "    }\n",
       "\n",
       "    .dataframe tbody tr th {\n",
       "        vertical-align: top;\n",
       "    }\n",
       "\n",
       "    .dataframe thead th {\n",
       "        text-align: right;\n",
       "    }\n",
       "</style>\n",
       "<table border=\"1\" class=\"dataframe\">\n",
       "  <thead>\n",
       "    <tr style=\"text-align: right;\">\n",
       "      <th></th>\n",
       "      <th>age</th>\n",
       "      <th>workclass</th>\n",
       "      <th>fnlwgt</th>\n",
       "      <th>education</th>\n",
       "      <th>educational-num</th>\n",
       "      <th>marital-status</th>\n",
       "      <th>occupation</th>\n",
       "      <th>relationship</th>\n",
       "      <th>race</th>\n",
       "      <th>gender</th>\n",
       "      <th>capital-gain</th>\n",
       "      <th>capital-loss</th>\n",
       "      <th>hours-per-week</th>\n",
       "      <th>native-country</th>\n",
       "      <th>income</th>\n",
       "    </tr>\n",
       "  </thead>\n",
       "  <tbody>\n",
       "    <tr>\n",
       "      <th>0</th>\n",
       "      <td>25</td>\n",
       "      <td>Private</td>\n",
       "      <td>226802</td>\n",
       "      <td>11th</td>\n",
       "      <td>7</td>\n",
       "      <td>Never-married</td>\n",
       "      <td>Machine-op-inspct</td>\n",
       "      <td>Own-child</td>\n",
       "      <td>Black</td>\n",
       "      <td>Male</td>\n",
       "      <td>0</td>\n",
       "      <td>0</td>\n",
       "      <td>40</td>\n",
       "      <td>United-States</td>\n",
       "      <td>&lt;=50K</td>\n",
       "    </tr>\n",
       "    <tr>\n",
       "      <th>1</th>\n",
       "      <td>38</td>\n",
       "      <td>Private</td>\n",
       "      <td>89814</td>\n",
       "      <td>HS-grad</td>\n",
       "      <td>9</td>\n",
       "      <td>Married-civ-spouse</td>\n",
       "      <td>Farming-fishing</td>\n",
       "      <td>Husband</td>\n",
       "      <td>White</td>\n",
       "      <td>Male</td>\n",
       "      <td>0</td>\n",
       "      <td>0</td>\n",
       "      <td>50</td>\n",
       "      <td>United-States</td>\n",
       "      <td>&lt;=50K</td>\n",
       "    </tr>\n",
       "    <tr>\n",
       "      <th>2</th>\n",
       "      <td>28</td>\n",
       "      <td>Local-gov</td>\n",
       "      <td>336951</td>\n",
       "      <td>Assoc-acdm</td>\n",
       "      <td>12</td>\n",
       "      <td>Married-civ-spouse</td>\n",
       "      <td>Protective-serv</td>\n",
       "      <td>Husband</td>\n",
       "      <td>White</td>\n",
       "      <td>Male</td>\n",
       "      <td>0</td>\n",
       "      <td>0</td>\n",
       "      <td>40</td>\n",
       "      <td>United-States</td>\n",
       "      <td>&gt;50K</td>\n",
       "    </tr>\n",
       "    <tr>\n",
       "      <th>3</th>\n",
       "      <td>44</td>\n",
       "      <td>Private</td>\n",
       "      <td>160323</td>\n",
       "      <td>Some-college</td>\n",
       "      <td>10</td>\n",
       "      <td>Married-civ-spouse</td>\n",
       "      <td>Machine-op-inspct</td>\n",
       "      <td>Husband</td>\n",
       "      <td>Black</td>\n",
       "      <td>Male</td>\n",
       "      <td>7688</td>\n",
       "      <td>0</td>\n",
       "      <td>40</td>\n",
       "      <td>United-States</td>\n",
       "      <td>&gt;50K</td>\n",
       "    </tr>\n",
       "    <tr>\n",
       "      <th>4</th>\n",
       "      <td>18</td>\n",
       "      <td>?</td>\n",
       "      <td>103497</td>\n",
       "      <td>Some-college</td>\n",
       "      <td>10</td>\n",
       "      <td>Never-married</td>\n",
       "      <td>?</td>\n",
       "      <td>Own-child</td>\n",
       "      <td>White</td>\n",
       "      <td>Female</td>\n",
       "      <td>0</td>\n",
       "      <td>0</td>\n",
       "      <td>30</td>\n",
       "      <td>United-States</td>\n",
       "      <td>&lt;=50K</td>\n",
       "    </tr>\n",
       "    <tr>\n",
       "      <th>...</th>\n",
       "      <td>...</td>\n",
       "      <td>...</td>\n",
       "      <td>...</td>\n",
       "      <td>...</td>\n",
       "      <td>...</td>\n",
       "      <td>...</td>\n",
       "      <td>...</td>\n",
       "      <td>...</td>\n",
       "      <td>...</td>\n",
       "      <td>...</td>\n",
       "      <td>...</td>\n",
       "      <td>...</td>\n",
       "      <td>...</td>\n",
       "      <td>...</td>\n",
       "      <td>...</td>\n",
       "    </tr>\n",
       "    <tr>\n",
       "      <th>48837</th>\n",
       "      <td>27</td>\n",
       "      <td>Private</td>\n",
       "      <td>257302</td>\n",
       "      <td>Assoc-acdm</td>\n",
       "      <td>12</td>\n",
       "      <td>Married-civ-spouse</td>\n",
       "      <td>Tech-support</td>\n",
       "      <td>Wife</td>\n",
       "      <td>White</td>\n",
       "      <td>Female</td>\n",
       "      <td>0</td>\n",
       "      <td>0</td>\n",
       "      <td>38</td>\n",
       "      <td>United-States</td>\n",
       "      <td>&lt;=50K</td>\n",
       "    </tr>\n",
       "    <tr>\n",
       "      <th>48838</th>\n",
       "      <td>40</td>\n",
       "      <td>Private</td>\n",
       "      <td>154374</td>\n",
       "      <td>HS-grad</td>\n",
       "      <td>9</td>\n",
       "      <td>Married-civ-spouse</td>\n",
       "      <td>Machine-op-inspct</td>\n",
       "      <td>Husband</td>\n",
       "      <td>White</td>\n",
       "      <td>Male</td>\n",
       "      <td>0</td>\n",
       "      <td>0</td>\n",
       "      <td>40</td>\n",
       "      <td>United-States</td>\n",
       "      <td>&gt;50K</td>\n",
       "    </tr>\n",
       "    <tr>\n",
       "      <th>48839</th>\n",
       "      <td>58</td>\n",
       "      <td>Private</td>\n",
       "      <td>151910</td>\n",
       "      <td>HS-grad</td>\n",
       "      <td>9</td>\n",
       "      <td>Widowed</td>\n",
       "      <td>Adm-clerical</td>\n",
       "      <td>Unmarried</td>\n",
       "      <td>White</td>\n",
       "      <td>Female</td>\n",
       "      <td>0</td>\n",
       "      <td>0</td>\n",
       "      <td>40</td>\n",
       "      <td>United-States</td>\n",
       "      <td>&lt;=50K</td>\n",
       "    </tr>\n",
       "    <tr>\n",
       "      <th>48840</th>\n",
       "      <td>22</td>\n",
       "      <td>Private</td>\n",
       "      <td>201490</td>\n",
       "      <td>HS-grad</td>\n",
       "      <td>9</td>\n",
       "      <td>Never-married</td>\n",
       "      <td>Adm-clerical</td>\n",
       "      <td>Own-child</td>\n",
       "      <td>White</td>\n",
       "      <td>Male</td>\n",
       "      <td>0</td>\n",
       "      <td>0</td>\n",
       "      <td>20</td>\n",
       "      <td>United-States</td>\n",
       "      <td>&lt;=50K</td>\n",
       "    </tr>\n",
       "    <tr>\n",
       "      <th>48841</th>\n",
       "      <td>52</td>\n",
       "      <td>Self-emp-inc</td>\n",
       "      <td>287927</td>\n",
       "      <td>HS-grad</td>\n",
       "      <td>9</td>\n",
       "      <td>Married-civ-spouse</td>\n",
       "      <td>Exec-managerial</td>\n",
       "      <td>Wife</td>\n",
       "      <td>White</td>\n",
       "      <td>Female</td>\n",
       "      <td>15024</td>\n",
       "      <td>0</td>\n",
       "      <td>40</td>\n",
       "      <td>United-States</td>\n",
       "      <td>&gt;50K</td>\n",
       "    </tr>\n",
       "  </tbody>\n",
       "</table>\n",
       "<p>48842 rows × 15 columns</p>\n",
       "</div>"
      ],
      "text/plain": [
       "       age     workclass  fnlwgt     education  educational-num  \\\n",
       "0       25       Private  226802          11th                7   \n",
       "1       38       Private   89814       HS-grad                9   \n",
       "2       28     Local-gov  336951    Assoc-acdm               12   \n",
       "3       44       Private  160323  Some-college               10   \n",
       "4       18             ?  103497  Some-college               10   \n",
       "...    ...           ...     ...           ...              ...   \n",
       "48837   27       Private  257302    Assoc-acdm               12   \n",
       "48838   40       Private  154374       HS-grad                9   \n",
       "48839   58       Private  151910       HS-grad                9   \n",
       "48840   22       Private  201490       HS-grad                9   \n",
       "48841   52  Self-emp-inc  287927       HS-grad                9   \n",
       "\n",
       "           marital-status         occupation relationship   race  gender  \\\n",
       "0           Never-married  Machine-op-inspct    Own-child  Black    Male   \n",
       "1      Married-civ-spouse    Farming-fishing      Husband  White    Male   \n",
       "2      Married-civ-spouse    Protective-serv      Husband  White    Male   \n",
       "3      Married-civ-spouse  Machine-op-inspct      Husband  Black    Male   \n",
       "4           Never-married                  ?    Own-child  White  Female   \n",
       "...                   ...                ...          ...    ...     ...   \n",
       "48837  Married-civ-spouse       Tech-support         Wife  White  Female   \n",
       "48838  Married-civ-spouse  Machine-op-inspct      Husband  White    Male   \n",
       "48839             Widowed       Adm-clerical    Unmarried  White  Female   \n",
       "48840       Never-married       Adm-clerical    Own-child  White    Male   \n",
       "48841  Married-civ-spouse    Exec-managerial         Wife  White  Female   \n",
       "\n",
       "       capital-gain  capital-loss  hours-per-week native-country income  \n",
       "0                 0             0              40  United-States  <=50K  \n",
       "1                 0             0              50  United-States  <=50K  \n",
       "2                 0             0              40  United-States   >50K  \n",
       "3              7688             0              40  United-States   >50K  \n",
       "4                 0             0              30  United-States  <=50K  \n",
       "...             ...           ...             ...            ...    ...  \n",
       "48837             0             0              38  United-States  <=50K  \n",
       "48838             0             0              40  United-States   >50K  \n",
       "48839             0             0              40  United-States  <=50K  \n",
       "48840             0             0              20  United-States  <=50K  \n",
       "48841         15024             0              40  United-States   >50K  \n",
       "\n",
       "[48842 rows x 15 columns]"
      ]
     },
     "execution_count": 4,
     "metadata": {},
     "output_type": "execute_result"
    }
   ],
   "source": [
    "import pandas as pd\n",
    "df=pd.read_csv('C:\\\\Users\\\\Lenovo\\\\OneDrive\\\\Desktop\\\\New folder\\\\Adult Income\\\\Adult\\\\archive (1)\\\\adult.csv')\n",
    "df"
   ]
  },
  {
   "cell_type": "code",
   "execution_count": 5,
   "metadata": {},
   "outputs": [],
   "source": [
    "df1=df.copy()\n",
    "#Replace special symbols with np.nan\n",
    "df1.replace(\"?\",np.NaN,inplace = True)"
   ]
  },
  {
   "cell_type": "code",
   "execution_count": 6,
   "metadata": {},
   "outputs": [],
   "source": [
    "# replacing NaN with forward & backward values\n",
    "df1['workclass'] = df1['workclass'].fillna(method = 'bfill')\n",
    "df1['occupation'] = df1['occupation'].fillna(method = 'bfill')\n",
    "df1['native-country'] = df1['native-country'].fillna(method = 'pad')"
   ]
  },
  {
   "cell_type": "code",
   "execution_count": 7,
   "metadata": {
    "scrolled": false
   },
   "outputs": [
    {
     "data": {
      "image/png": "[encoded data removed]",
      "text/plain": [
       "<Figure size 1080x504 with 1 Axes>"
      ]
     },
     "metadata": {
      "needs_background": "light"
     },
     "output_type": "display_data"
    }
   ],
   "source": [
    "plt.figure(figsize=(15,7))\n",
    "df1.groupby('education')['income'].value_counts().plot(kind=\"barh\")\n",
    "plt.xticks(rotation=0)\n",
    "plt.xlabel(\"income\")\n",
    "plt.ylabel(\"education\")\n",
    "plt.show()"
   ]
  },
  {
   "cell_type": "markdown",
   "metadata": {},
   "source": [
    "### Observation\n",
    "    1. Maximum people who are earning less then 50k are in high school\n",
    "    2. Maximum people who are earning more then 50k are in Bachelors."
   ]
  },
  {
   "cell_type": "code",
   "execution_count": 8,
   "metadata": {},
   "outputs": [
    {
     "data": {
      "text/plain": [
       "Text(0, 0.5, 'Occupation')"
      ]
     },
     "execution_count": 8,
     "metadata": {},
     "output_type": "execute_result"
    },
    {
     "data": {
      "image/png": "[encoded data removed]",
      "text/plain": [
       "<Figure size 1800x1440 with 1 Axes>"
      ]
     },
     "metadata": {
      "needs_background": "light"
     },
     "output_type": "display_data"
    }
   ],
   "source": [
    "plt.figure(figsize = (25,20))\n",
    "df1.groupby('occupation')['income'].value_counts().sort_values(ascending = True).plot(kind = 'barh')\n",
    "plt.ylabel('Occupation',fontsize = 30)"
   ]
  },
  {
   "cell_type": "markdown",
   "metadata": {},
   "source": [
    "### Observation\n",
    "    1. Occupasions in which maximum people are earning >50K are Exec - managerial and Prof.speciality\n",
    "    2. Occupasions in which maximum people are earning <=50K are Adm-clerical, Craft-repair and Other-service.\n",
    "    3. Occupasions in which Minimum people are earning <=50K are Armed-Forces.\n",
    "    4. Occupasions in which Minimum people are earning >50K are Priv-house-serv."
   ]
  },
  {
   "cell_type": "markdown",
   "metadata": {},
   "source": [
    "## Maximum number of records are from which country"
   ]
  },
  {
   "cell_type": "code",
   "execution_count": 9,
   "metadata": {},
   "outputs": [
    {
     "data": {
      "text/plain": [
       "United-States                 44611\n",
       "Mexico                          969\n",
       "Philippines                     298\n",
       "Germany                         211\n",
       "Puerto-Rico                     188\n",
       "Canada                          185\n",
       "El-Salvador                     161\n",
       "India                           156\n",
       "Cuba                            140\n",
       "England                         130\n",
       "China                           125\n",
       "South                           115\n",
       "Jamaica                         108\n",
       "Dominican-Republic              107\n",
       "Italy                           106\n",
       "Japan                            93\n",
       "Vietnam                          91\n",
       "Guatemala                        90\n",
       "Poland                           87\n",
       "Columbia                         87\n",
       "Haiti                            76\n",
       "Portugal                         67\n",
       "Taiwan                           65\n",
       "Iran                             59\n",
       "Greece                           50\n",
       "Nicaragua                        49\n",
       "Peru                             48\n",
       "Ecuador                          45\n",
       "France                           39\n",
       "Ireland                          37\n",
       "Hong                             30\n",
       "Thailand                         30\n",
       "Cambodia                         29\n",
       "Trinadad&Tobago                  27\n",
       "Yugoslavia                       25\n",
       "Laos                             24\n",
       "Outlying-US(Guam-USVI-etc)       23\n",
       "Scotland                         21\n",
       "Honduras                         20\n",
       "Hungary                          19\n",
       "Holand-Netherlands                1\n",
       "Name: native-country, dtype: int64"
      ]
     },
     "execution_count": 9,
     "metadata": {},
     "output_type": "execute_result"
    }
   ],
   "source": [
    "df1['native-country'].value_counts()"
   ]
  },
  {
   "cell_type": "code",
   "execution_count": 10,
   "metadata": {},
   "outputs": [
    {
     "data": {
      "image/png": "[encoded data removed]",
      "text/plain": [
       "<Figure size 360x360 with 1 Axes>"
      ]
     },
     "metadata": {
      "needs_background": "light"
     },
     "output_type": "display_data"
    }
   ],
   "source": [
    "sns.displot(df1['hours-per-week'],kind = 'kde');"
   ]
  },
  {
   "cell_type": "markdown",
   "metadata": {},
   "source": [
    "- It is been observed that most of the people are working between 35 to 45 hours per week"
   ]
  },
  {
   "cell_type": "code",
   "execution_count": 11,
   "metadata": {},
   "outputs": [
    {
     "data": {
      "image/png": "[encoded data removed]",
      "text/plain": [
       "<Figure size 432x288 with 1 Axes>"
      ]
     },
     "metadata": {},
     "output_type": "display_data"
    }
   ],
   "source": [
    "df1['workclass'].value_counts().plot(kind = 'pie');"
   ]
  },
  {
   "cell_type": "markdown",
   "metadata": {},
   "source": [
    "- Most of the employee belongs to private jobs category"
   ]
  },
  {
   "cell_type": "code",
   "execution_count": 12,
   "metadata": {},
   "outputs": [
    {
     "data": {
      "image/png": "[encoded data removed]",
      "text/plain": [
       "<Figure size 432x288 with 1 Axes>"
      ]
     },
     "metadata": {
      "needs_background": "light"
     },
     "output_type": "display_data"
    }
   ],
   "source": [
    "df1['education'].value_counts().plot(kind='bar',color=sns.color_palette(\"Set2\"));"
   ]
  },
  {
   "cell_type": "markdown",
   "metadata": {},
   "source": [
    "- Most of the employess have completed HS-grad education"
   ]
  },
  {
   "cell_type": "code",
   "execution_count": 13,
   "metadata": {},
   "outputs": [
    {
     "data": {
      "text/plain": [
       "HS-grad         12291\n",
       "Some-college     8150\n",
       "Bachelors        5496\n",
       "Assoc-voc        1548\n",
       "11th             1537\n",
       "Name: education, dtype: int64"
      ]
     },
     "execution_count": 13,
     "metadata": {},
     "output_type": "execute_result"
    }
   ],
   "source": [
    "df1[df1['workclass'] == 'Private'].education.value_counts().head()"
   ]
  },
  {
   "cell_type": "code",
   "execution_count": 14,
   "metadata": {},
   "outputs": [
    {
     "name": "stderr",
     "output_type": "stream",
     "text": [
      "C:\\Users\\Lenovo\\anaconda3\\lib\\site-packages\\seaborn\\_decorators.py:36: FutureWarning: Pass the following variables as keyword args: x, y. From version 0.12, the only valid positional argument will be `data`, and passing other arguments without an explicit keyword will result in an error or misinterpretation.\n",
      "  warnings.warn(\n"
     ]
    },
    {
     "data": {
      "image/png": "[encoded data removed]",
      "text/plain": [
       "<Figure size 504x504 with 1 Axes>"
      ]
     },
     "metadata": {
      "needs_background": "light"
     },
     "output_type": "display_data"
    }
   ],
   "source": [
    "#Even though the income varry a lot though the working hour for high and low income group is similar\n",
    "plt.figure(figsize = (7,7))\n",
    "sns.stripplot(df1['income'],df1['hours-per-week']);"
   ]
  },
  {
   "cell_type": "markdown",
   "metadata": {},
   "source": [
    "# Bivariate Analysis"
   ]
  },
  {
   "cell_type": "code",
   "execution_count": 15,
   "metadata": {},
   "outputs": [
    {
     "name": "stderr",
     "output_type": "stream",
     "text": [
      "C:\\Users\\Lenovo\\anaconda3\\lib\\site-packages\\seaborn\\_decorators.py:36: FutureWarning: Pass the following variables as keyword args: x, y. From version 0.12, the only valid positional argument will be `data`, and passing other arguments without an explicit keyword will result in an error or misinterpretation.\n",
      "  warnings.warn(\n"
     ]
    },
    {
     "data": {
      "image/png": "[encoded data removed]",
      "text/plain": [
       "<Figure size 1080x504 with 1 Axes>"
      ]
     },
     "metadata": {
      "needs_background": "light"
     },
     "output_type": "display_data"
    }
   ],
   "source": [
    "plt.figure(figsize =(15,7))\n",
    "sns.barplot(df1['occupation'],df1['hours-per-week'],hue = df1['gender'],color = 'orange')\n",
    "plt.xticks(rotation = 90)\n",
    "plt.xlabel('occupation')\n",
    "plt.ylabel('hours_per_week')\n",
    "plt.show()"
   ]
  },
  {
   "cell_type": "markdown",
   "metadata": {},
   "source": [
    "- Males with occupation of Farming- Fishing are working for longer period of time\n",
    "- Womens with occupation of Exec-managerial are working for longer period of time\n",
    "- There are no womens in Armed Forces."
   ]
  },
  {
   "cell_type": "code",
   "execution_count": 16,
   "metadata": {},
   "outputs": [],
   "source": [
    "#we convert the hours per week into bins of size 0-20,20-40,40-60,60-80,80-100.\n",
    "bins = [0, 20, 40, 60, 80, 100]\n",
    "labels=['0-20','20-40','40-60','60-80','80-100']\n",
    "df1['binned_hours'] = pd.cut(df1['hours-per-week'], bins, labels=labels)"
   ]
  },
  {
   "cell_type": "code",
   "execution_count": 17,
   "metadata": {},
   "outputs": [
    {
     "data": {
      "text/plain": [
       "20-40     30037\n",
       "40-60     12676\n",
       "0-20       4453\n",
       "60-80      1358\n",
       "80-100      318\n",
       "Name: binned_hours, dtype: int64"
      ]
     },
     "execution_count": 17,
     "metadata": {},
     "output_type": "execute_result"
    }
   ],
   "source": [
    "df1['binned_hours'].value_counts()"
   ]
  },
  {
   "cell_type": "code",
   "execution_count": 18,
   "metadata": {},
   "outputs": [],
   "source": [
    "bins = [0, 20, 40, 60, 80, 100]\n",
    "labels=['0-20','20-40','40-60','60-80','80-100']\n",
    "df1['binned_age'] = pd.cut(df1['age'], bins, labels=labels)"
   ]
  },
  {
   "cell_type": "code",
   "execution_count": 19,
   "metadata": {},
   "outputs": [
    {
     "data": {
      "text/plain": [
       "<AxesSubplot:xlabel='binned_age', ylabel='count'>"
      ]
     },
     "execution_count": 19,
     "metadata": {},
     "output_type": "execute_result"
    },
    {
     "data": {
      "image/png": "[encoded data removed]",
      "text/plain": [
       "<Figure size 432x288 with 1 Axes>"
      ]
     },
     "metadata": {
      "needs_background": "light"
     },
     "output_type": "display_data"
    }
   ],
   "source": [
    "sns.countplot(x='binned_age', hue='income', data=df1, palette=['blue', 'red'], \n",
    "               hue_order=['<=50K', '>50K'], alpha=0.8, edgecolor='black')"
   ]
  },
  {
   "cell_type": "code",
   "execution_count": 20,
   "metadata": {},
   "outputs": [
    {
     "data": {
      "text/plain": [
       "20-40     25008\n",
       "40-60     16605\n",
       "0-20       3623\n",
       "60-80      3458\n",
       "80-100      148\n",
       "Name: binned_age, dtype: int64"
      ]
     },
     "execution_count": 20,
     "metadata": {},
     "output_type": "execute_result"
    }
   ],
   "source": [
    "df1['binned_age'].value_counts()"
   ]
  },
  {
   "cell_type": "code",
   "execution_count": 21,
   "metadata": {},
   "outputs": [],
   "source": [
    "bins = [-10000,0,10000,1000000]\n",
    "labels =['no-gain','gain','high-gain']\n",
    "df1['binned capital gain'] = pd.cut(df1['capital-gain'], bins,labels=labels)"
   ]
  },
  {
   "cell_type": "code",
   "execution_count": 22,
   "metadata": {},
   "outputs": [
    {
     "data": {
      "text/plain": [
       "no-gain      44807\n",
       "gain          2901\n",
       "high-gain     1134\n",
       "Name: binned capital gain, dtype: int64"
      ]
     },
     "execution_count": 22,
     "metadata": {},
     "output_type": "execute_result"
    }
   ],
   "source": [
    "df1['binned capital gain'].value_counts()"
   ]
  },
  {
   "cell_type": "code",
   "execution_count": 23,
   "metadata": {},
   "outputs": [],
   "source": [
    "bins = [-1000000,-10000,0,1000000]\n",
    "labels =['high loss','loss','no loss']\n",
    "df1['binned capital loss'] = pd.cut(df1['capital-loss'], bins,labels=labels)"
   ]
  },
  {
   "cell_type": "code",
   "execution_count": 24,
   "metadata": {},
   "outputs": [
    {
     "data": {
      "text/plain": [
       "loss         46560\n",
       "no loss       2282\n",
       "high loss        0\n",
       "Name: binned capital loss, dtype: int64"
      ]
     },
     "execution_count": 24,
     "metadata": {},
     "output_type": "execute_result"
    }
   ],
   "source": [
    "df1['binned capital loss'].value_counts()"
   ]
  },
  {
   "cell_type": "markdown",
   "metadata": {},
   "source": [
    "#### Putting records of workclass into bins private sector, govt sector, Unemployed for better visualization"
   ]
  },
  {
   "cell_type": "code",
   "execution_count": 25,
   "metadata": {},
   "outputs": [],
   "source": [
    "df1.workclass = df1.workclass.replace([\"Self-emp-not-inc\",\"Self-emp-inc\"], 'Self Employed')\n",
    "df1.workclass = df1.workclass.replace([\"State-gov\",'Federal-gov','Local-gov'], 'Govt Sector')\n",
    "df1.workclass = df1.workclass.replace([\"Without-pay\",\"Never-worked\"], \"Unemployed\")"
   ]
  },
  {
   "cell_type": "code",
   "execution_count": 26,
   "metadata": {
    "scrolled": true
   },
   "outputs": [
    {
     "data": {
      "image/png": "[encoded data removed]",
      "text/plain": [
       "<Figure size 1080x360 with 1 Axes>"
      ]
     },
     "metadata": {
      "needs_background": "light"
     },
     "output_type": "display_data"
    }
   ],
   "source": [
    "plt.figure(figsize=(15,5))\n",
    "sns.barplot(x='workclass',y='age',hue='income',data=df1,palette='icefire',saturation=0.9)\n",
    "plt.tight_layout()\n",
    "plt.grid(True)\n",
    "plt.show()"
   ]
  },
  {
   "cell_type": "markdown",
   "metadata": {},
   "source": [
    "### Observation\n",
    "1. People earning more then 50K are older in age compare to people earning less then 50K and Unemployed\n",
    "2. People working in govt sector seem to be having slighter more income compared to private sector"
   ]
  },
  {
   "cell_type": "markdown",
   "metadata": {},
   "source": [
    "**Q)If person is unemployed then what are his source of income?**\n",
    "\n",
    "> The person may have alternative sources of income, such as investments, savings, or other assets, \n",
    "we have to examine other variables in the dataset that could provide more information about the income and financial situation of the individuals, such as education level, occupation, or capital gains."
   ]
  },
  {
   "cell_type": "code",
   "execution_count": 27,
   "metadata": {},
   "outputs": [
    {
     "data": {
      "image/png": "[encoded data removed]",
      "text/plain": [
       "<Figure size 1080x360 with 1 Axes>"
      ]
     },
     "metadata": {
      "needs_background": "light"
     },
     "output_type": "display_data"
    },
    {
     "data": {
      "image/png": "[encoded data removed]",
      "text/plain": [
       "<Figure size 1080x360 with 1 Axes>"
      ]
     },
     "metadata": {
      "needs_background": "light"
     },
     "output_type": "display_data"
    },
    {
     "data": {
      "image/png": "[encoded data removed]",
      "text/plain": [
       "<Figure size 1080x360 with 1 Axes>"
      ]
     },
     "metadata": {
      "needs_background": "light"
     },
     "output_type": "display_data"
    }
   ],
   "source": [
    "# Define education level categories\n",
    "df1.education = df1.education.replace(['Preschool', '1st-4th', '5th-6th', '7th-8th', '9th', '10th', '11th', '12th'], 'Primary')\n",
    "df1.education = df1.education.replace(['HS-grad', 'Bachelors','Some-college'], 'Secondary')\n",
    "df1.education = df1.education.replace(['Masters', 'Doctorate', 'Prof-school','Assoc-acdm','Assoc-voc'], 'Higher')\n",
    "\n",
    "# Plot the data, stratified by education level\n",
    "plt.figure(figsize=(15,5))\n",
    "sns.barplot(x='workclass', y='capital-gain',hue='income', data=df1, palette='icefire', saturation=0.9, ci=None, \n",
    "            order=['Unemployed', 'Govt Sector', 'Private', 'Self Employed'])\n",
    "plt.title('Capital gain by Work Class and Income, Stratified by Education Level')\n",
    "plt.xlabel('Work Class')\n",
    "plt.ylabel('Capital gain')\n",
    "plt.tight_layout()\n",
    "plt.grid(True)\n",
    "plt.show()\n",
    "\n",
    "\n",
    "# Plot the data, stratified by education level\n",
    "plt.figure(figsize=(15,5))\n",
    "sns.barplot(x='workclass', y='capital-loss',hue='income', data=df1, palette='icefire', saturation=0.9, ci=None, \n",
    "            order=['Unemployed', 'Govt Sector', 'Private', 'Self Employed'])\n",
    "plt.title('Capital loss by Work Class and Income, Stratified by Education Level')\n",
    "plt.xlabel('Work Class')\n",
    "plt.ylabel('Capital loss')\n",
    "plt.tight_layout()\n",
    "plt.grid(True)\n",
    "plt.show()\n",
    "\n",
    "# Plot the data, stratified by education level\n",
    "plt.figure(figsize=(15,5))\n",
    "sns.barplot(x='workclass', y='age', hue='education', data=df1, palette='icefire', saturation=0.9, ci=None, \n",
    "            order=['Unemployed', 'Govt Sector', 'Private', 'Self Employed'])\n",
    "plt.title('Age by Work Class and Education Level')\n",
    "plt.xlabel('Work Class')\n",
    "plt.ylabel('Average Age')\n",
    "plt.tight_layout()\n",
    "plt.grid(True)\n",
    "plt.show()"
   ]
  },
  {
   "cell_type": "markdown",
   "metadata": {},
   "source": [
    "- From third graph we observe that in Unemployed Section peoples are having higher education and are older there is a possibility they have done savings so that might be the reason they are having high income\n",
    "- From first graph it is clear that from Self employed sector whatever persons having income greater than 50k are making huge profit.\n",
    "- From second graph it is clear that from unemployed section whatever peoples having income greater than 50k are making huge loss."
   ]
  },
  {
   "cell_type": "code",
   "execution_count": 28,
   "metadata": {},
   "outputs": [],
   "source": [
    "df1['marital-status'] = df1['marital-status'].replace(['Widowed','Divorced','Separated'], \"other\")\n",
    "df1['marital-status'] = df1['marital-status'].replace(['Married-civ-spouse','Married-spouse-absent','Married-AF-spouse'],\"Married\")"
   ]
  },
  {
   "cell_type": "code",
   "execution_count": 29,
   "metadata": {},
   "outputs": [
    {
     "data": {
      "text/plain": [
       "<AxesSubplot:xlabel='marital-status', ylabel='count'>"
      ]
     },
     "execution_count": 29,
     "metadata": {},
     "output_type": "execute_result"
    },
    {
     "data": {
      "image/png": "[encoded data removed]",
      "text/plain": [
       "<Figure size 1080x360 with 1 Axes>"
      ]
     },
     "metadata": {
      "needs_background": "light"
     },
     "output_type": "display_data"
    }
   ],
   "source": [
    "plt.figure(figsize=(15,5))\n",
    "sns.countplot(x = \"marital-status\", hue = 'income', data = df1, palette = \"dark:salmon_r\")"
   ]
  },
  {
   "cell_type": "markdown",
   "metadata": {},
   "source": [
    "### Above graph tell us that married person has high chance to earn more"
   ]
  },
  {
   "cell_type": "code",
   "execution_count": 30,
   "metadata": {},
   "outputs": [
    {
     "name": "stderr",
     "output_type": "stream",
     "text": [
      "C:\\Users\\Lenovo\\anaconda3\\lib\\site-packages\\seaborn\\_decorators.py:36: FutureWarning: Pass the following variables as keyword args: x, y. From version 0.12, the only valid positional argument will be `data`, and passing other arguments without an explicit keyword will result in an error or misinterpretation.\n",
      "  warnings.warn(\n"
     ]
    },
    {
     "data": {
      "image/png": "[encoded data removed]",
      "text/plain": [
       "<Figure size 864x504 with 1 Axes>"
      ]
     },
     "metadata": {
      "needs_background": "light"
     },
     "output_type": "display_data"
    }
   ],
   "source": [
    "plt.figure(figsize =(12,7))\n",
    "sns.barplot(df1['marital-status'],df1['hours-per-week'])\n",
    "plt.xticks(rotation = 90)\n",
    "plt.xlabel('marital_status')\n",
    "plt.ylabel('hours_per_week')\n",
    "plt.show()"
   ]
  },
  {
   "cell_type": "markdown",
   "metadata": {},
   "source": [
    "- Married Peoples work for long time as compared to unmarried and other peoples\n"
   ]
  },
  {
   "cell_type": "code",
   "execution_count": null,
   "metadata": {
    "scrolled": false
   },
   "outputs": [],
   "source": []
  },
  {
   "cell_type": "markdown",
   "metadata": {},
   "source": [
    "## Hypothesis Testing\n",
    "**Using Chi-Square Testing**\n",
    "\n",
    "- Is there a relationship between occupation and gender?"
   ]
  },
  {
   "cell_type": "code",
   "execution_count": 31,
   "metadata": {},
   "outputs": [
    {
     "data": {
      "text/plain": [
       "gender  occupation       \n",
       "Female  Adm-clerical         3921\n",
       "        Craft-repair          474\n",
       "        Exec-managerial      1911\n",
       "        Farming-fishing       145\n",
       "        Handlers-cleaners     309\n",
       "        Machine-op-inspct     894\n",
       "        Other-service        2830\n",
       "        Priv-house-serv       235\n",
       "        Prof-specialty       2427\n",
       "        Protective-serv       148\n",
       "        Sales                2109\n",
       "        Tech-support          595\n",
       "        Transport-moving      194\n",
       "Male    Adm-clerical         2039\n",
       "        Armed-Forces           15\n",
       "        Craft-repair         5997\n",
       "        Exec-managerial      4524\n",
       "        Farming-fishing      1459\n",
       "        Handlers-cleaners    1894\n",
       "        Machine-op-inspct    2312\n",
       "        Other-service        2385\n",
       "        Priv-house-serv        21\n",
       "        Prof-specialty       4148\n",
       "        Protective-serv       892\n",
       "        Sales                3731\n",
       "        Tech-support          932\n",
       "        Transport-moving     2301\n",
       "Name: age, dtype: int64"
      ]
     },
     "execution_count": 31,
     "metadata": {},
     "output_type": "execute_result"
    }
   ],
   "source": [
    "df1.groupby(['gender','occupation']).count()['age']"
   ]
  },
  {
   "cell_type": "code",
   "execution_count": 32,
   "metadata": {},
   "outputs": [
    {
     "data": {
      "text/html": [
       "<div>\n",
       "<style scoped>\n",
       "    .dataframe tbody tr th:only-of-type {\n",
       "        vertical-align: middle;\n",
       "    }\n",
       "\n",
       "    .dataframe tbody tr th {\n",
       "        vertical-align: top;\n",
       "    }\n",
       "\n",
       "    .dataframe thead th {\n",
       "        text-align: right;\n",
       "    }\n",
       "</style>\n",
       "<table border=\"1\" class=\"dataframe\">\n",
       "  <thead>\n",
       "    <tr style=\"text-align: right;\">\n",
       "      <th>gender</th>\n",
       "      <th>Female</th>\n",
       "      <th>Male</th>\n",
       "    </tr>\n",
       "    <tr>\n",
       "      <th>occupation</th>\n",
       "      <th></th>\n",
       "      <th></th>\n",
       "    </tr>\n",
       "  </thead>\n",
       "  <tbody>\n",
       "    <tr>\n",
       "      <th>Adm-clerical</th>\n",
       "      <td>3921</td>\n",
       "      <td>2039</td>\n",
       "    </tr>\n",
       "    <tr>\n",
       "      <th>Armed-Forces</th>\n",
       "      <td>0</td>\n",
       "      <td>15</td>\n",
       "    </tr>\n",
       "    <tr>\n",
       "      <th>Craft-repair</th>\n",
       "      <td>474</td>\n",
       "      <td>5997</td>\n",
       "    </tr>\n",
       "    <tr>\n",
       "      <th>Exec-managerial</th>\n",
       "      <td>1911</td>\n",
       "      <td>4524</td>\n",
       "    </tr>\n",
       "    <tr>\n",
       "      <th>Farming-fishing</th>\n",
       "      <td>145</td>\n",
       "      <td>1459</td>\n",
       "    </tr>\n",
       "    <tr>\n",
       "      <th>Handlers-cleaners</th>\n",
       "      <td>309</td>\n",
       "      <td>1894</td>\n",
       "    </tr>\n",
       "    <tr>\n",
       "      <th>Machine-op-inspct</th>\n",
       "      <td>894</td>\n",
       "      <td>2312</td>\n",
       "    </tr>\n",
       "    <tr>\n",
       "      <th>Other-service</th>\n",
       "      <td>2830</td>\n",
       "      <td>2385</td>\n",
       "    </tr>\n",
       "    <tr>\n",
       "      <th>Priv-house-serv</th>\n",
       "      <td>235</td>\n",
       "      <td>21</td>\n",
       "    </tr>\n",
       "    <tr>\n",
       "      <th>Prof-specialty</th>\n",
       "      <td>2427</td>\n",
       "      <td>4148</td>\n",
       "    </tr>\n",
       "    <tr>\n",
       "      <th>Protective-serv</th>\n",
       "      <td>148</td>\n",
       "      <td>892</td>\n",
       "    </tr>\n",
       "    <tr>\n",
       "      <th>Sales</th>\n",
       "      <td>2109</td>\n",
       "      <td>3731</td>\n",
       "    </tr>\n",
       "    <tr>\n",
       "      <th>Tech-support</th>\n",
       "      <td>595</td>\n",
       "      <td>932</td>\n",
       "    </tr>\n",
       "    <tr>\n",
       "      <th>Transport-moving</th>\n",
       "      <td>194</td>\n",
       "      <td>2301</td>\n",
       "    </tr>\n",
       "  </tbody>\n",
       "</table>\n",
       "</div>"
      ],
      "text/plain": [
       "gender             Female  Male\n",
       "occupation                     \n",
       "Adm-clerical         3921  2039\n",
       "Armed-Forces            0    15\n",
       "Craft-repair          474  5997\n",
       "Exec-managerial      1911  4524\n",
       "Farming-fishing       145  1459\n",
       "Handlers-cleaners     309  1894\n",
       "Machine-op-inspct     894  2312\n",
       "Other-service        2830  2385\n",
       "Priv-house-serv       235    21\n",
       "Prof-specialty       2427  4148\n",
       "Protective-serv       148   892\n",
       "Sales                2109  3731\n",
       "Tech-support          595   932\n",
       "Transport-moving      194  2301"
      ]
     },
     "execution_count": 32,
     "metadata": {},
     "output_type": "execute_result"
    }
   ],
   "source": [
    "crtab = pd.crosstab(df1['occupation'],df1['gender'])\n",
    "crtab"
   ]
  },
  {
   "cell_type": "code",
   "execution_count": 33,
   "metadata": {},
   "outputs": [
    {
     "data": {
      "text/plain": [
       "0.0"
      ]
     },
     "execution_count": 33,
     "metadata": {},
     "output_type": "execute_result"
    }
   ],
   "source": [
    "from scipy import stats\n",
    "test_statistic,p,dof,_=stats.chi2_contingency(crtab)\n",
    "p"
   ]
  },
  {
   "cell_type": "code",
   "execution_count": 34,
   "metadata": {},
   "outputs": [
    {
     "name": "stdout",
     "output_type": "stream",
     "text": [
      "There is no relation between the two variable\n"
     ]
    }
   ],
   "source": [
    "if p <0.05:\n",
    " print('There is no relation between the two variable')\n",
    "else:\n",
    " print('There is some significance relation between the two variables')"
   ]
  },
  {
   "cell_type": "markdown",
   "metadata": {},
   "source": [
    "- Is there a relationship between gender and income?"
   ]
  },
  {
   "cell_type": "code",
   "execution_count": 35,
   "metadata": {},
   "outputs": [
    {
     "data": {
      "text/html": [
       "<div>\n",
       "<style scoped>\n",
       "    .dataframe tbody tr th:only-of-type {\n",
       "        vertical-align: middle;\n",
       "    }\n",
       "\n",
       "    .dataframe tbody tr th {\n",
       "        vertical-align: top;\n",
       "    }\n",
       "\n",
       "    .dataframe thead th {\n",
       "        text-align: right;\n",
       "    }\n",
       "</style>\n",
       "<table border=\"1\" class=\"dataframe\">\n",
       "  <thead>\n",
       "    <tr style=\"text-align: right;\">\n",
       "      <th></th>\n",
       "      <th></th>\n",
       "      <th>age</th>\n",
       "      <th>workclass</th>\n",
       "      <th>fnlwgt</th>\n",
       "      <th>education</th>\n",
       "      <th>educational-num</th>\n",
       "      <th>marital-status</th>\n",
       "      <th>occupation</th>\n",
       "      <th>relationship</th>\n",
       "      <th>race</th>\n",
       "      <th>capital-gain</th>\n",
       "      <th>capital-loss</th>\n",
       "      <th>hours-per-week</th>\n",
       "      <th>native-country</th>\n",
       "      <th>binned_hours</th>\n",
       "      <th>binned_age</th>\n",
       "      <th>binned capital gain</th>\n",
       "      <th>binned capital loss</th>\n",
       "    </tr>\n",
       "    <tr>\n",
       "      <th>gender</th>\n",
       "      <th>income</th>\n",
       "      <th></th>\n",
       "      <th></th>\n",
       "      <th></th>\n",
       "      <th></th>\n",
       "      <th></th>\n",
       "      <th></th>\n",
       "      <th></th>\n",
       "      <th></th>\n",
       "      <th></th>\n",
       "      <th></th>\n",
       "      <th></th>\n",
       "      <th></th>\n",
       "      <th></th>\n",
       "      <th></th>\n",
       "      <th></th>\n",
       "      <th></th>\n",
       "      <th></th>\n",
       "    </tr>\n",
       "  </thead>\n",
       "  <tbody>\n",
       "    <tr>\n",
       "      <th rowspan=\"2\" valign=\"top\">Female</th>\n",
       "      <th>&lt;=50K</th>\n",
       "      <td>14423</td>\n",
       "      <td>14423</td>\n",
       "      <td>14423</td>\n",
       "      <td>14423</td>\n",
       "      <td>14423</td>\n",
       "      <td>14423</td>\n",
       "      <td>14423</td>\n",
       "      <td>14423</td>\n",
       "      <td>14423</td>\n",
       "      <td>14423</td>\n",
       "      <td>14423</td>\n",
       "      <td>14423</td>\n",
       "      <td>14423</td>\n",
       "      <td>14423</td>\n",
       "      <td>14423</td>\n",
       "      <td>14423</td>\n",
       "      <td>14423</td>\n",
       "    </tr>\n",
       "    <tr>\n",
       "      <th>&gt;50K</th>\n",
       "      <td>1769</td>\n",
       "      <td>1769</td>\n",
       "      <td>1769</td>\n",
       "      <td>1769</td>\n",
       "      <td>1769</td>\n",
       "      <td>1769</td>\n",
       "      <td>1769</td>\n",
       "      <td>1769</td>\n",
       "      <td>1769</td>\n",
       "      <td>1769</td>\n",
       "      <td>1769</td>\n",
       "      <td>1769</td>\n",
       "      <td>1769</td>\n",
       "      <td>1769</td>\n",
       "      <td>1769</td>\n",
       "      <td>1769</td>\n",
       "      <td>1769</td>\n",
       "    </tr>\n",
       "    <tr>\n",
       "      <th rowspan=\"2\" valign=\"top\">Male</th>\n",
       "      <th>&lt;=50K</th>\n",
       "      <td>22732</td>\n",
       "      <td>22732</td>\n",
       "      <td>22732</td>\n",
       "      <td>22732</td>\n",
       "      <td>22732</td>\n",
       "      <td>22732</td>\n",
       "      <td>22732</td>\n",
       "      <td>22732</td>\n",
       "      <td>22732</td>\n",
       "      <td>22732</td>\n",
       "      <td>22732</td>\n",
       "      <td>22732</td>\n",
       "      <td>22732</td>\n",
       "      <td>22732</td>\n",
       "      <td>22732</td>\n",
       "      <td>22732</td>\n",
       "      <td>22732</td>\n",
       "    </tr>\n",
       "    <tr>\n",
       "      <th>&gt;50K</th>\n",
       "      <td>9918</td>\n",
       "      <td>9918</td>\n",
       "      <td>9918</td>\n",
       "      <td>9918</td>\n",
       "      <td>9918</td>\n",
       "      <td>9918</td>\n",
       "      <td>9918</td>\n",
       "      <td>9918</td>\n",
       "      <td>9918</td>\n",
       "      <td>9918</td>\n",
       "      <td>9918</td>\n",
       "      <td>9918</td>\n",
       "      <td>9918</td>\n",
       "      <td>9918</td>\n",
       "      <td>9918</td>\n",
       "      <td>9918</td>\n",
       "      <td>9918</td>\n",
       "    </tr>\n",
       "  </tbody>\n",
       "</table>\n",
       "</div>"
      ],
      "text/plain": [
       "                 age  workclass  fnlwgt  education  educational-num  \\\n",
       "gender income                                                         \n",
       "Female <=50K   14423      14423   14423      14423            14423   \n",
       "       >50K     1769       1769    1769       1769             1769   \n",
       "Male   <=50K   22732      22732   22732      22732            22732   \n",
       "       >50K     9918       9918    9918       9918             9918   \n",
       "\n",
       "               marital-status  occupation  relationship   race  capital-gain  \\\n",
       "gender income                                                                  \n",
       "Female <=50K            14423       14423         14423  14423         14423   \n",
       "       >50K              1769        1769          1769   1769          1769   \n",
       "Male   <=50K            22732       22732         22732  22732         22732   \n",
       "       >50K              9918        9918          9918   9918          9918   \n",
       "\n",
       "               capital-loss  hours-per-week  native-country  binned_hours  \\\n",
       "gender income                                                               \n",
       "Female <=50K          14423           14423           14423         14423   \n",
       "       >50K            1769            1769            1769          1769   \n",
       "Male   <=50K          22732           22732           22732         22732   \n",
       "       >50K            9918            9918            9918          9918   \n",
       "\n",
       "               binned_age  binned capital gain  binned capital loss  \n",
       "gender income                                                        \n",
       "Female <=50K        14423                14423                14423  \n",
       "       >50K          1769                 1769                 1769  \n",
       "Male   <=50K        22732                22732                22732  \n",
       "       >50K          9918                 9918                 9918  "
      ]
     },
     "execution_count": 35,
     "metadata": {},
     "output_type": "execute_result"
    }
   ],
   "source": [
    "df1.groupby(['gender','income']).count()"
   ]
  },
  {
   "cell_type": "code",
   "execution_count": 36,
   "metadata": {},
   "outputs": [
    {
     "data": {
      "text/html": [
       "<div>\n",
       "<style scoped>\n",
       "    .dataframe tbody tr th:only-of-type {\n",
       "        vertical-align: middle;\n",
       "    }\n",
       "\n",
       "    .dataframe tbody tr th {\n",
       "        vertical-align: top;\n",
       "    }\n",
       "\n",
       "    .dataframe thead th {\n",
       "        text-align: right;\n",
       "    }\n",
       "</style>\n",
       "<table border=\"1\" class=\"dataframe\">\n",
       "  <thead>\n",
       "    <tr style=\"text-align: right;\">\n",
       "      <th>gender</th>\n",
       "      <th>Female</th>\n",
       "      <th>Male</th>\n",
       "    </tr>\n",
       "    <tr>\n",
       "      <th>income</th>\n",
       "      <th></th>\n",
       "      <th></th>\n",
       "    </tr>\n",
       "  </thead>\n",
       "  <tbody>\n",
       "    <tr>\n",
       "      <th>&lt;=50K</th>\n",
       "      <td>14423</td>\n",
       "      <td>22732</td>\n",
       "    </tr>\n",
       "    <tr>\n",
       "      <th>&gt;50K</th>\n",
       "      <td>1769</td>\n",
       "      <td>9918</td>\n",
       "    </tr>\n",
       "  </tbody>\n",
       "</table>\n",
       "</div>"
      ],
      "text/plain": [
       "gender  Female   Male\n",
       "income               \n",
       "<=50K    14423  22732\n",
       ">50K      1769   9918"
      ]
     },
     "execution_count": 36,
     "metadata": {},
     "output_type": "execute_result"
    }
   ],
   "source": [
    "crtab = pd.crosstab(df1['income'],df1['gender'])\n",
    "crtab"
   ]
  },
  {
   "cell_type": "code",
   "execution_count": 37,
   "metadata": {},
   "outputs": [
    {
     "data": {
      "text/plain": [
       "0.0"
      ]
     },
     "execution_count": 37,
     "metadata": {},
     "output_type": "execute_result"
    }
   ],
   "source": [
    "test_statistic,p,dof,_=stats.chi2_contingency(crtab)\n",
    "p"
   ]
  },
  {
   "cell_type": "code",
   "execution_count": 38,
   "metadata": {},
   "outputs": [
    {
     "name": "stdout",
     "output_type": "stream",
     "text": [
      "There is no relation between the two variable\n"
     ]
    }
   ],
   "source": [
    "if p <0.05:\n",
    " print('There is no relation between the two variable')\n",
    "else:\n",
    " print('There is some significance relation between the two variables')"
   ]
  },
  {
   "cell_type": "code",
   "execution_count": 39,
   "metadata": {},
   "outputs": [
    {
     "data": {
      "text/html": [
       "<div>\n",
       "<style scoped>\n",
       "    .dataframe tbody tr th:only-of-type {\n",
       "        vertical-align: middle;\n",
       "    }\n",
       "\n",
       "    .dataframe tbody tr th {\n",
       "        vertical-align: top;\n",
       "    }\n",
       "\n",
       "    .dataframe thead th {\n",
       "        text-align: right;\n",
       "    }\n",
       "</style>\n",
       "<table border=\"1\" class=\"dataframe\">\n",
       "  <thead>\n",
       "    <tr style=\"text-align: right;\">\n",
       "      <th></th>\n",
       "      <th>vif</th>\n",
       "      <th>Features</th>\n",
       "    </tr>\n",
       "  </thead>\n",
       "  <tbody>\n",
       "    <tr>\n",
       "      <th>0</th>\n",
       "      <td>7.195599</td>\n",
       "      <td>age</td>\n",
       "    </tr>\n",
       "    <tr>\n",
       "      <th>1</th>\n",
       "      <td>3.690647</td>\n",
       "      <td>fnlwgt</td>\n",
       "    </tr>\n",
       "    <tr>\n",
       "      <th>2</th>\n",
       "      <td>10.878954</td>\n",
       "      <td>educational-num</td>\n",
       "    </tr>\n",
       "    <tr>\n",
       "      <th>3</th>\n",
       "      <td>1.033190</td>\n",
       "      <td>capital-gain</td>\n",
       "    </tr>\n",
       "    <tr>\n",
       "      <th>4</th>\n",
       "      <td>1.056831</td>\n",
       "      <td>capital-loss</td>\n",
       "    </tr>\n",
       "    <tr>\n",
       "      <th>5</th>\n",
       "      <td>9.705724</td>\n",
       "      <td>hours-per-week</td>\n",
       "    </tr>\n",
       "  </tbody>\n",
       "</table>\n",
       "</div>"
      ],
      "text/plain": [
       "         vif         Features\n",
       "0   7.195599              age\n",
       "1   3.690647           fnlwgt\n",
       "2  10.878954  educational-num\n",
       "3   1.033190     capital-gain\n",
       "4   1.056831     capital-loss\n",
       "5   9.705724   hours-per-week"
      ]
     },
     "execution_count": 39,
     "metadata": {},
     "output_type": "execute_result"
    }
   ],
   "source": [
    "from statsmodels.stats.outliers_influence import variance_inflation_factor\n",
    "numeric_cols=df.select_dtypes(exclude=['object']).columns.tolist()\n",
    "\n",
    "dt = df1[numeric_cols]\n",
    "# Check multicollinearity\n",
    "vif = pd.DataFrame()\n",
    "vif[\"vif\"] = [variance_inflation_factor(dt.values,i) for i in range(len(dt.columns))]\n",
    "vif[\"Features\"] = dt.columns\n",
    "#let's check the values\n",
    "vif"
   ]
  },
  {
   "cell_type": "code",
   "execution_count": 40,
   "metadata": {},
   "outputs": [
    {
     "data": {
      "text/plain": [
       "age                 0.557580\n",
       "fnlwgt              1.438892\n",
       "educational-num    -0.316525\n",
       "capital-gain       11.894659\n",
       "capital-loss        4.569809\n",
       "hours-per-week      0.238750\n",
       "dtype: float64"
      ]
     },
     "execution_count": 40,
     "metadata": {},
     "output_type": "execute_result"
    }
   ],
   "source": [
    "#Skewness of original data\n",
    "df.skew()"
   ]
  },
  {
   "cell_type": "code",
   "execution_count": 41,
   "metadata": {},
   "outputs": [],
   "source": [
    "# Check and remove Outliars"
   ]
  },
  {
   "cell_type": "code",
   "execution_count": 42,
   "metadata": {},
   "outputs": [
    {
     "data": {
      "text/plain": [
       "<AxesSubplot:xlabel='age'>"
      ]
     },
     "execution_count": 42,
     "metadata": {},
     "output_type": "execute_result"
    },
    {
     "data": {
      "image/png": "[encoded data removed]",
      "text/plain": [
       "<Figure size 432x288 with 1 Axes>"
      ]
     },
     "metadata": {
      "needs_background": "light"
     },
     "output_type": "display_data"
    }
   ],
   "source": [
    "sns.boxplot(x = 'age', data = df)"
   ]
  },
  {
   "cell_type": "code",
   "execution_count": 43,
   "metadata": {},
   "outputs": [
    {
     "name": "stdout",
     "output_type": "stream",
     "text": [
      "78.0 -2.0\n"
     ]
    }
   ],
   "source": [
    "#Outliers in age\n",
    "IQR = df['age'].quantile(0.75) - df['age'].quantile(0.25)\n",
    "Lower_Limit = df['age'].quantile(0.25) - 1.5*IQR\n",
    "UPPER_LIMIT = df['age'].quantile(0.75) + 1.5*IQR\n",
    "print(UPPER_LIMIT,Lower_Limit)\n",
    "df['age']= np.where(df['age']>UPPER_LIMIT,UPPER_LIMIT,\n",
    "np.where(df['age']<Lower_Limit,Lower_Limit,df['age']))\n",
    "data['age']= np.where(data['age']>UPPER_LIMIT,UPPER_LIMIT,\n",
    "np.where(data['age']<Lower_Limit,Lower_Limit,data['age']))"
   ]
  },
  {
   "cell_type": "code",
   "execution_count": 44,
   "metadata": {
    "scrolled": true
   },
   "outputs": [
    {
     "data": {
      "text/plain": [
       "<AxesSubplot:xlabel='age'>"
      ]
     },
     "execution_count": 44,
     "metadata": {},
     "output_type": "execute_result"
    },
    {
     "data": {
      "image/png": "[encoded data removed]",
      "text/plain": [
       "<Figure size 432x288 with 1 Axes>"
      ]
     },
     "metadata": {
      "needs_background": "light"
     },
     "output_type": "display_data"
    }
   ],
   "source": [
    "sns.boxplot(x = 'age', data = df)"
   ]
  },
  {
   "cell_type": "code",
   "execution_count": 45,
   "metadata": {},
   "outputs": [
    {
     "data": {
      "text/plain": [
       "<AxesSubplot:xlabel='fnlwgt'>"
      ]
     },
     "execution_count": 45,
     "metadata": {},
     "output_type": "execute_result"
    },
    {
     "data": {
      "image/png": "[encoded data removed]",
      "text/plain": [
       "<Figure size 432x288 with 1 Axes>"
      ]
     },
     "metadata": {
      "needs_background": "light"
     },
     "output_type": "display_data"
    }
   ],
   "source": [
    "#Outliers in fnlwgt\n",
    "sns.boxplot(x = 'fnlwgt', data = df)"
   ]
  },
  {
   "cell_type": "code",
   "execution_count": 46,
   "metadata": {},
   "outputs": [
    {
     "name": "stdout",
     "output_type": "stream",
     "text": [
      "417779.25 -62586.75\n"
     ]
    }
   ],
   "source": [
    "IQR = df['fnlwgt'].quantile(0.75) - df['fnlwgt'].quantile(0.25)\n",
    "Lower_Limit = df['fnlwgt'].quantile(0.25) - 1.5*IQR\n",
    "UPPER_LIMIT = df['fnlwgt'].quantile(0.75) + 1.5*IQR\n",
    "print(UPPER_LIMIT,Lower_Limit)\n",
    "df['fnlwgt']= np.where(df['fnlwgt']>UPPER_LIMIT,UPPER_LIMIT,\n",
    "np.where(df['fnlwgt']<Lower_Limit,Lower_Limit,df['fnlwgt']))\n",
    "data['fnlwgt']= np.where(data['fnlwgt']>UPPER_LIMIT,UPPER_LIMIT,\n",
    "np.where(data['fnlwgt']<Lower_Limit,Lower_Limit,data['fnlwgt']))"
   ]
  },
  {
   "cell_type": "code",
   "execution_count": 47,
   "metadata": {},
   "outputs": [
    {
     "data": {
      "text/plain": [
       "<AxesSubplot:xlabel='fnlwgt'>"
      ]
     },
     "execution_count": 47,
     "metadata": {},
     "output_type": "execute_result"
    },
    {
     "data": {
      "image/png": "[encoded data removed]",
      "text/plain": [
       "<Figure size 432x288 with 1 Axes>"
      ]
     },
     "metadata": {
      "needs_background": "light"
     },
     "output_type": "display_data"
    }
   ],
   "source": [
    "sns.boxplot(x = 'fnlwgt', data = df)"
   ]
  },
  {
   "cell_type": "code",
   "execution_count": 48,
   "metadata": {},
   "outputs": [
    {
     "data": {
      "text/plain": [
       "<AxesSubplot:xlabel='educational-num'>"
      ]
     },
     "execution_count": 48,
     "metadata": {},
     "output_type": "execute_result"
    },
    {
     "data": {
      "image/png": "[encoded data removed]",
      "text/plain": [
       "<Figure size 432x288 with 1 Axes>"
      ]
     },
     "metadata": {
      "needs_background": "light"
     },
     "output_type": "display_data"
    }
   ],
   "source": [
    "#Outliers in educational-num\n",
    "sns.boxplot(x = 'educational-num', data = df)"
   ]
  },
  {
   "cell_type": "code",
   "execution_count": 49,
   "metadata": {},
   "outputs": [
    {
     "name": "stdout",
     "output_type": "stream",
     "text": [
      "16.5 4.5\n"
     ]
    }
   ],
   "source": [
    "IQR = df['educational-num'].quantile(0.75) - df['educational-num'].quantile(0.25)\n",
    "Lower_Limit = df['educational-num'].quantile(0.25) - 1.5*IQR\n",
    "UPPER_LIMIT = df['educational-num'].quantile(0.75) + 1.5*IQR\n",
    "print(UPPER_LIMIT,Lower_Limit)\n",
    "df['educational-num']= np.where(df['educational-num']>UPPER_LIMIT,UPPER_LIMIT,\n",
    "np.where(df['educational-num']<Lower_Limit,Lower_Limit,df['educational-num']))\n",
    "data['educational-num']= np.where(data['educational-num']>UPPER_LIMIT,UPPER_LIMIT,\n",
    "np.where(data['educational-num']<Lower_Limit,Lower_Limit,data['educational-num']))"
   ]
  },
  {
   "cell_type": "code",
   "execution_count": 50,
   "metadata": {},
   "outputs": [
    {
     "data": {
      "text/plain": [
       "<AxesSubplot:xlabel='educational-num'>"
      ]
     },
     "execution_count": 50,
     "metadata": {},
     "output_type": "execute_result"
    },
    {
     "data": {
      "image/png": "[encoded data removed]",
      "text/plain": [
       "<Figure size 432x288 with 1 Axes>"
      ]
     },
     "metadata": {
      "needs_background": "light"
     },
     "output_type": "display_data"
    }
   ],
   "source": [
    "sns.boxplot(x = 'educational-num', data = df)"
   ]
  },
  {
   "cell_type": "code",
   "execution_count": 51,
   "metadata": {},
   "outputs": [
    {
     "data": {
      "text/plain": [
       "<AxesSubplot:xlabel='hours-per-week'>"
      ]
     },
     "execution_count": 51,
     "metadata": {},
     "output_type": "execute_result"
    },
    {
     "data": {
      "image/png": "[encoded data removed]",
      "text/plain": [
       "<Figure size 432x288 with 1 Axes>"
      ]
     },
     "metadata": {
      "needs_background": "light"
     },
     "output_type": "display_data"
    }
   ],
   "source": [
    "#Outliers in hours-per-week\n",
    "sns.boxplot(x = 'hours-per-week', data = df)"
   ]
  },
  {
   "cell_type": "code",
   "execution_count": 52,
   "metadata": {},
   "outputs": [
    {
     "name": "stdout",
     "output_type": "stream",
     "text": [
      "52.5 32.5\n"
     ]
    }
   ],
   "source": [
    "IQR = df['hours-per-week'].quantile(0.75) - df['hours-per-week'].quantile(0.25)\n",
    "Lower_Limit = df['hours-per-week'].quantile(0.25) - 1.5*IQR\n",
    "UPPER_LIMIT = df['hours-per-week'].quantile(0.75) + 1.5*IQR\n",
    "print(UPPER_LIMIT,Lower_Limit)\n",
    "df['hours-per-week']= np.where(df['hours-per-week']>UPPER_LIMIT,UPPER_LIMIT,\n",
    "np.where(df['hours-per-week']<Lower_Limit,Lower_Limit,df['hours-per-week']))\n",
    "data['hours-per-week']= np.where(data['hours-per-week']>UPPER_LIMIT,UPPER_LIMIT,\n",
    "np.where(data['hours-per-week']<Lower_Limit,Lower_Limit,data['hours-per-week']))"
   ]
  },
  {
   "cell_type": "code",
   "execution_count": 53,
   "metadata": {},
   "outputs": [
    {
     "data": {
      "text/plain": [
       "<AxesSubplot:xlabel='hours-per-week'>"
      ]
     },
     "execution_count": 53,
     "metadata": {},
     "output_type": "execute_result"
    },
    {
     "data": {
      "image/png": "[encoded data removed]",
      "text/plain": [
       "<Figure size 432x288 with 1 Axes>"
      ]
     },
     "metadata": {
      "needs_background": "light"
     },
     "output_type": "display_data"
    }
   ],
   "source": [
    "sns.boxplot(x = 'hours-per-week', data = df)"
   ]
  },
  {
   "cell_type": "code",
   "execution_count": 54,
   "metadata": {},
   "outputs": [
    {
     "data": {
      "text/plain": [
       "age                 0.515820\n",
       "fnlwgt              0.555106\n",
       "educational-num    -0.035567\n",
       "capital-gain       11.894659\n",
       "capital-loss        4.569809\n",
       "hours-per-week      0.439533\n",
       "dtype: float64"
      ]
     },
     "execution_count": 54,
     "metadata": {},
     "output_type": "execute_result"
    }
   ],
   "source": [
    "df.skew()"
   ]
  },
  {
   "cell_type": "code",
   "execution_count": 55,
   "metadata": {},
   "outputs": [
    {
     "data": {
      "text/plain": [
       "age                 0.513887\n",
       "fnlwgt              0.554599\n",
       "educational-num    -0.034100\n",
       "capital-gain       11.953848\n",
       "capital-loss        4.594629\n",
       "hours-per-week      0.438298\n",
       "dtype: float64"
      ]
     },
     "execution_count": 55,
     "metadata": {},
     "output_type": "execute_result"
    }
   ],
   "source": [
    "data.skew()"
   ]
  },
  {
   "cell_type": "code",
   "execution_count": 56,
   "metadata": {},
   "outputs": [
    {
     "data": {
      "image/png": "[encoded data removed]",
      "text/plain": [
       "<Figure size 1440x360 with 4 Axes>"
      ]
     },
     "metadata": {
      "needs_background": "light"
     },
     "output_type": "display_data"
    }
   ],
   "source": [
    "# select only the specified columns\n",
    "cols = ['age', 'fnlwgt', 'educational-num', 'hours-per-week']\n",
    "df_subset = df[cols]\n",
    "\n",
    "# create a subplots figure with the number of rows and columns based on the number of columns\n",
    "n_cols = len(cols)\n",
    "fig, axes = plt.subplots(ncols=n_cols, figsize=(20, 5))\n",
    "\n",
    "# iterate over the columns and plot the KDE\n",
    "for i, col in enumerate(cols):\n",
    "    sns.kdeplot(data=df_subset, x=col, ax=axes[i])\n",
    "    axes[i].set_title(col)\n",
    "\n",
    "# adjust the layout\n",
    "fig.tight_layout()\n",
    "\n",
    "# show the plot\n",
    "plt.show()\n"
   ]
  },
  {
   "cell_type": "code",
   "execution_count": 57,
   "metadata": {},
   "outputs": [],
   "source": [
    "# apply log transformation to the age\n",
    "df['age'] = np.log(df['age'])\n",
    "data['age'] = np.log(data['age'])"
   ]
  },
  {
   "cell_type": "code",
   "execution_count": 58,
   "metadata": {},
   "outputs": [
    {
     "data": {
      "text/plain": [
       "<AxesSubplot:xlabel='age', ylabel='Density'>"
      ]
     },
     "execution_count": 58,
     "metadata": {},
     "output_type": "execute_result"
    },
    {
     "data": {
      "image/png": "[encoded data removed]",
      "text/plain": [
       "<Figure size 432x288 with 1 Axes>"
      ]
     },
     "metadata": {
      "needs_background": "light"
     },
     "output_type": "display_data"
    }
   ],
   "source": [
    "sns.kdeplot(data=df, x='age')"
   ]
  },
  {
   "cell_type": "code",
   "execution_count": 59,
   "metadata": {},
   "outputs": [
    {
     "data": {
      "text/plain": [
       "(46, 15)"
      ]
     },
     "execution_count": 59,
     "metadata": {},
     "output_type": "execute_result"
    }
   ],
   "source": [
    "# Check for the duplicate values across all the rows\n",
    "duplicate_rows = df[df.duplicated()]\n",
    "duplicate_rows = data[data.duplicated()]\n",
    "duplicate_rows.shape"
   ]
  },
  {
   "cell_type": "code",
   "execution_count": 60,
   "metadata": {},
   "outputs": [],
   "source": [
    "# drop duplicates\n",
    "df.drop_duplicates(inplace=True)\n",
    "data.drop_duplicates(inplace=True)"
   ]
  },
  {
   "cell_type": "code",
   "execution_count": 61,
   "metadata": {},
   "outputs": [],
   "source": [
    "#drop null values\n",
    "df=df.dropna()\n",
    "data=data.dropna()"
   ]
  },
  {
   "cell_type": "code",
   "execution_count": 62,
   "metadata": {},
   "outputs": [
    {
     "data": {
      "text/plain": [
       "age                0\n",
       "workclass          0\n",
       "fnlwgt             0\n",
       "education          0\n",
       "educational-num    0\n",
       "marital-status     0\n",
       "occupation         0\n",
       "relationship       0\n",
       "race               0\n",
       "gender             0\n",
       "capital-gain       0\n",
       "capital-loss       0\n",
       "hours-per-week     0\n",
       "native-country     0\n",
       "income             0\n",
       "dtype: int64"
      ]
     },
     "execution_count": 62,
     "metadata": {},
     "output_type": "execute_result"
    }
   ],
   "source": [
    "# Checking Null Values\n",
    "data.isna().sum()"
   ]
  },
  {
   "cell_type": "code",
   "execution_count": 63,
   "metadata": {},
   "outputs": [],
   "source": [
    "numeric_cols=df.select_dtypes(exclude=['object']).columns.tolist()\n",
    "categorical_cols = df.select_dtypes('object').columns.tolist()"
   ]
  },
  {
   "cell_type": "code",
   "execution_count": 64,
   "metadata": {},
   "outputs": [
    {
     "name": "stdout",
     "output_type": "stream",
     "text": [
      "6\n",
      "9\n"
     ]
    }
   ],
   "source": [
    "print(len(numeric_cols))\n",
    "print(len(categorical_cols))"
   ]
  },
  {
   "cell_type": "code",
   "execution_count": 65,
   "metadata": {},
   "outputs": [
    {
     "name": "stdout",
     "output_type": "stream",
     "text": [
      "age                0\n",
      "fnlwgt             0\n",
      "educational-num    0\n",
      "capital-gain       0\n",
      "capital-loss       0\n",
      "hours-per-week     0\n",
      "dtype: int64\n"
     ]
    }
   ],
   "source": [
    "# Count the number of negative values for each numeric column\n",
    "negative_counts = df[numeric_cols].apply(lambda x: x[x < 0].count())\n",
    "\n",
    "print(negative_counts)"
   ]
  },
  {
   "cell_type": "code",
   "execution_count": 66,
   "metadata": {},
   "outputs": [
    {
     "name": "stdout",
     "output_type": "stream",
     "text": [
      "capital-loss    46475\n",
      "capital-gain    44722\n",
      "dtype: int64\n"
     ]
    }
   ],
   "source": [
    "pd.set_option('display.max_rows', None)\n",
    "# Find columns that contain at least one zero value\n",
    "zero_cols = df.columns[df.isin([0]).any()]\n",
    "\n",
    "# Calculate the number of zero values in each column that contains them\n",
    "zero_values = df[zero_cols].isin([0]).sum()\n",
    "\n",
    "# Sort the missing values in descending order and get the top 10\n",
    "zero_values = zero_values.sort_values(ascending=False)[:20]\n",
    "print(zero_values)"
   ]
  },
  {
   "cell_type": "markdown",
   "metadata": {},
   "source": [
    "Columns capital loss and capital gain tend to be more relevant for individuals who are investing in stocks, real estate, or other types of assets that can appreciate or depreciate in value.\n",
    "\n",
    "From above numbers it is clear that many individuals have zero values for capital-gain or capital-loss this is because they most people dont invest in stocks , real estate so they do not have significant capital gains or losses to report."
   ]
  },
  {
   "cell_type": "code",
   "execution_count": 67,
   "metadata": {},
   "outputs": [
    {
     "data": {
      "text/html": [
       "<div>\n",
       "<style scoped>\n",
       "    .dataframe tbody tr th:only-of-type {\n",
       "        vertical-align: middle;\n",
       "    }\n",
       "\n",
       "    .dataframe tbody tr th {\n",
       "        vertical-align: top;\n",
       "    }\n",
       "\n",
       "    .dataframe thead th {\n",
       "        text-align: right;\n",
       "    }\n",
       "</style>\n",
       "<table border=\"1\" class=\"dataframe\">\n",
       "  <thead>\n",
       "    <tr style=\"text-align: right;\">\n",
       "      <th></th>\n",
       "      <th>age</th>\n",
       "      <th>fnlwgt</th>\n",
       "      <th>educational-num</th>\n",
       "      <th>capital-gain</th>\n",
       "      <th>capital-loss</th>\n",
       "      <th>hours-per-week</th>\n",
       "    </tr>\n",
       "  </thead>\n",
       "  <tbody>\n",
       "    <tr>\n",
       "      <th>count</th>\n",
       "      <td>48757.000000</td>\n",
       "      <td>48757.000000</td>\n",
       "      <td>48757.000000</td>\n",
       "      <td>48757.000000</td>\n",
       "      <td>48757.000000</td>\n",
       "      <td>48757.000000</td>\n",
       "    </tr>\n",
       "    <tr>\n",
       "      <th>mean</th>\n",
       "      <td>3.590826</td>\n",
       "      <td>186709.646097</td>\n",
       "      <td>10.122905</td>\n",
       "      <td>1080.948807</td>\n",
       "      <td>87.654860</td>\n",
       "      <td>41.198382</td>\n",
       "    </tr>\n",
       "    <tr>\n",
       "      <th>std</th>\n",
       "      <td>0.360788</td>\n",
       "      <td>95269.440946</td>\n",
       "      <td>2.457028</td>\n",
       "      <td>7458.375739</td>\n",
       "      <td>403.339117</td>\n",
       "      <td>6.184794</td>\n",
       "    </tr>\n",
       "    <tr>\n",
       "      <th>min</th>\n",
       "      <td>2.833213</td>\n",
       "      <td>12285.000000</td>\n",
       "      <td>4.500000</td>\n",
       "      <td>0.000000</td>\n",
       "      <td>0.000000</td>\n",
       "      <td>32.500000</td>\n",
       "    </tr>\n",
       "    <tr>\n",
       "      <th>25%</th>\n",
       "      <td>3.332205</td>\n",
       "      <td>117529.000000</td>\n",
       "      <td>9.000000</td>\n",
       "      <td>0.000000</td>\n",
       "      <td>0.000000</td>\n",
       "      <td>40.000000</td>\n",
       "    </tr>\n",
       "    <tr>\n",
       "      <th>50%</th>\n",
       "      <td>3.610918</td>\n",
       "      <td>178109.000000</td>\n",
       "      <td>10.000000</td>\n",
       "      <td>0.000000</td>\n",
       "      <td>0.000000</td>\n",
       "      <td>40.000000</td>\n",
       "    </tr>\n",
       "    <tr>\n",
       "      <th>75%</th>\n",
       "      <td>3.871201</td>\n",
       "      <td>237525.000000</td>\n",
       "      <td>12.000000</td>\n",
       "      <td>0.000000</td>\n",
       "      <td>0.000000</td>\n",
       "      <td>45.000000</td>\n",
       "    </tr>\n",
       "    <tr>\n",
       "      <th>max</th>\n",
       "      <td>4.356709</td>\n",
       "      <td>417779.250000</td>\n",
       "      <td>16.000000</td>\n",
       "      <td>99999.000000</td>\n",
       "      <td>4356.000000</td>\n",
       "      <td>52.500000</td>\n",
       "    </tr>\n",
       "  </tbody>\n",
       "</table>\n",
       "</div>"
      ],
      "text/plain": [
       "                age         fnlwgt  educational-num  capital-gain  \\\n",
       "count  48757.000000   48757.000000     48757.000000  48757.000000   \n",
       "mean       3.590826  186709.646097        10.122905   1080.948807   \n",
       "std        0.360788   95269.440946         2.457028   7458.375739   \n",
       "min        2.833213   12285.000000         4.500000      0.000000   \n",
       "25%        3.332205  117529.000000         9.000000      0.000000   \n",
       "50%        3.610918  178109.000000        10.000000      0.000000   \n",
       "75%        3.871201  237525.000000        12.000000      0.000000   \n",
       "max        4.356709  417779.250000        16.000000  99999.000000   \n",
       "\n",
       "       capital-loss  hours-per-week  \n",
       "count  48757.000000    48757.000000  \n",
       "mean      87.654860       41.198382  \n",
       "std      403.339117        6.184794  \n",
       "min        0.000000       32.500000  \n",
       "25%        0.000000       40.000000  \n",
       "50%        0.000000       40.000000  \n",
       "75%        0.000000       45.000000  \n",
       "max     4356.000000       52.500000  "
      ]
     },
     "execution_count": 67,
     "metadata": {},
     "output_type": "execute_result"
    }
   ],
   "source": [
    "df.describe()"
   ]
  },
  {
   "cell_type": "code",
   "execution_count": 68,
   "metadata": {},
   "outputs": [
    {
     "data": {
      "text/html": [
       "<div>\n",
       "<style scoped>\n",
       "    .dataframe tbody tr th:only-of-type {\n",
       "        vertical-align: middle;\n",
       "    }\n",
       "\n",
       "    .dataframe tbody tr th {\n",
       "        vertical-align: top;\n",
       "    }\n",
       "\n",
       "    .dataframe thead th {\n",
       "        text-align: right;\n",
       "    }\n",
       "</style>\n",
       "<table border=\"1\" class=\"dataframe\">\n",
       "  <thead>\n",
       "    <tr style=\"text-align: right;\">\n",
       "      <th></th>\n",
       "      <th>workclass</th>\n",
       "      <th>education</th>\n",
       "      <th>marital-status</th>\n",
       "      <th>occupation</th>\n",
       "      <th>relationship</th>\n",
       "      <th>race</th>\n",
       "      <th>gender</th>\n",
       "      <th>native-country</th>\n",
       "      <th>income</th>\n",
       "    </tr>\n",
       "  </thead>\n",
       "  <tbody>\n",
       "    <tr>\n",
       "      <th>count</th>\n",
       "      <td>48757</td>\n",
       "      <td>48757</td>\n",
       "      <td>48757</td>\n",
       "      <td>48757</td>\n",
       "      <td>48757</td>\n",
       "      <td>48757</td>\n",
       "      <td>48757</td>\n",
       "      <td>48757</td>\n",
       "      <td>48757</td>\n",
       "    </tr>\n",
       "    <tr>\n",
       "      <th>unique</th>\n",
       "      <td>9</td>\n",
       "      <td>16</td>\n",
       "      <td>7</td>\n",
       "      <td>15</td>\n",
       "      <td>6</td>\n",
       "      <td>5</td>\n",
       "      <td>2</td>\n",
       "      <td>42</td>\n",
       "      <td>2</td>\n",
       "    </tr>\n",
       "    <tr>\n",
       "      <th>top</th>\n",
       "      <td>Private</td>\n",
       "      <td>HS-grad</td>\n",
       "      <td>Married-civ-spouse</td>\n",
       "      <td>Prof-specialty</td>\n",
       "      <td>Husband</td>\n",
       "      <td>White</td>\n",
       "      <td>Male</td>\n",
       "      <td>United-States</td>\n",
       "      <td>&lt;=50K</td>\n",
       "    </tr>\n",
       "    <tr>\n",
       "      <th>freq</th>\n",
       "      <td>33834</td>\n",
       "      <td>15764</td>\n",
       "      <td>22359</td>\n",
       "      <td>6163</td>\n",
       "      <td>19696</td>\n",
       "      <td>41684</td>\n",
       "      <td>32597</td>\n",
       "      <td>43760</td>\n",
       "      <td>37079</td>\n",
       "    </tr>\n",
       "  </tbody>\n",
       "</table>\n",
       "</div>"
      ],
      "text/plain": [
       "       workclass education      marital-status      occupation relationship  \\\n",
       "count      48757     48757               48757           48757        48757   \n",
       "unique         9        16                   7              15            6   \n",
       "top      Private   HS-grad  Married-civ-spouse  Prof-specialty      Husband   \n",
       "freq       33834     15764               22359            6163        19696   \n",
       "\n",
       "         race gender native-country income  \n",
       "count   48757  48757          48757  48757  \n",
       "unique      5      2             42      2  \n",
       "top     White   Male  United-States  <=50K  \n",
       "freq    41684  32597          43760  37079  "
      ]
     },
     "execution_count": 68,
     "metadata": {},
     "output_type": "execute_result"
    }
   ],
   "source": [
    "df.describe(include=[object ])"
   ]
  },
  {
   "cell_type": "code",
   "execution_count": 69,
   "metadata": {},
   "outputs": [
    {
     "data": {
      "text/plain": [
       "<AxesSubplot:>"
      ]
     },
     "execution_count": 69,
     "metadata": {},
     "output_type": "execute_result"
    },
    {
     "data": {
      "image/png": "[encoded data removed]",
      "text/plain": [
       "<Figure size 576x648 with 2 Axes>"
      ]
     },
     "metadata": {
      "needs_background": "light"
     },
     "output_type": "display_data"
    }
   ],
   "source": [
    "#CORRELATION CHECK\n",
    "import seaborn as sns\n",
    "import matplotlib.pyplot as plt\n",
    "df_corr=df.corr()\n",
    "#sns.heatmap(df_corr)\n",
    "plt.figure(figsize=(8, 9))\n",
    "sns.heatmap(df_corr, annot=True, cmap='coolwarm')"
   ]
  },
  {
   "cell_type": "code",
   "execution_count": 70,
   "metadata": {},
   "outputs": [],
   "source": [
    "from sklearn.preprocessing import MinMaxScaler\n",
    "# Initialize the MinMaxScaler\n",
    "scaler = MinMaxScaler()\n",
    "\n",
    "# Fit the scaler to the selected columns\n",
    "scaler.fit(df[numeric_cols])\n",
    "\n",
    "# Transform the selected columns with the scaler\n",
    "df[numeric_cols] = scaler.transform(df[numeric_cols])\n",
    "data[numeric_cols] = scaler.transform(data[numeric_cols])\n",
    "\n",
    "# The scaled data is now stored in the selected columns of the dataframe"
   ]
  },
  {
   "cell_type": "code",
   "execution_count": 71,
   "metadata": {},
   "outputs": [],
   "source": [
    "df.drop('education',axis=1,inplace=True)\n",
    "data.drop('education',axis=1,inplace=True)"
   ]
  },
  {
   "cell_type": "code",
   "execution_count": 72,
   "metadata": {},
   "outputs": [
    {
     "name": "stdout",
     "output_type": "stream",
     "text": [
      "['<=50K' '>50K']\n"
     ]
    }
   ],
   "source": [
    "from sklearn.preprocessing import OrdinalEncoder, OneHotEncoder, LabelEncoder\n",
    "\n",
    "# Label Encoding\n",
    "le = LabelEncoder()\n",
    "df['marital-status'] = le.fit_transform(df['marital-status'])\n",
    "data['marital-status'] = le.transform(data['marital-status'])\n",
    "\n",
    "df['relationship'] = le.fit_transform(df['relationship'])\n",
    "data['relationship'] = le.transform(data['relationship'])\n",
    "\n",
    "df['gender'] = le.fit_transform(df['gender'])\n",
    "data['gender'] = le.transform(data['gender'])\n",
    "\n",
    "df['income'] = le.fit_transform(df['income'])\n",
    "data['income'] = le.transform(data['income'])\n",
    "\n",
    "print(le.classes_)"
   ]
  },
  {
   "cell_type": "code",
   "execution_count": 73,
   "metadata": {},
   "outputs": [],
   "source": [
    "# Categorical columns with ordinal data\n",
    "ordinal_cols = ['race']\n",
    "\n",
    "# Categorical columns with multi-modal data\n",
    "onehot_cols = ['workclass', 'occupation','native-country']\n",
    "\n",
    "# Ordinal Encoding\n",
    "ordinal_encoder = OrdinalEncoder()\n",
    "df[ordinal_cols] = ordinal_encoder.fit_transform(df[ordinal_cols])\n",
    "data[ordinal_cols] = ordinal_encoder.transform(data[ordinal_cols])"
   ]
  },
  {
   "cell_type": "code",
   "execution_count": 74,
   "metadata": {},
   "outputs": [
    {
     "name": "stdout",
     "output_type": "stream",
     "text": [
      "Column \"workclass\" has 9 unique values:\n",
      "['Private' 'Local-gov' '?' 'Self-emp-not-inc' 'Federal-gov' 'State-gov'\n",
      " 'Self-emp-inc' 'Without-pay' 'Never-worked']\n",
      "Column \"occupation\" has 15 unique values:\n",
      "['Machine-op-inspct' 'Farming-fishing' 'Protective-serv' '?'\n",
      " 'Other-service' 'Prof-specialty' 'Craft-repair' 'Adm-clerical'\n",
      " 'Exec-managerial' 'Tech-support' 'Sales' 'Priv-house-serv'\n",
      " 'Transport-moving' 'Handlers-cleaners' 'Armed-Forces']\n",
      "Column \"native-country\" has 42 unique values:\n",
      "['United-States' '?' 'Peru' 'Guatemala' 'Mexico' 'Dominican-Republic'\n",
      " 'Ireland' 'Germany' 'Philippines' 'Thailand' 'Haiti' 'El-Salvador'\n",
      " 'Puerto-Rico' 'Vietnam' 'South' 'Columbia' 'Japan' 'India' 'Cambodia'\n",
      " 'Poland' 'Laos' 'England' 'Cuba' 'Taiwan' 'Italy' 'Canada' 'Portugal'\n",
      " 'China' 'Nicaragua' 'Honduras' 'Iran' 'Scotland' 'Jamaica' 'Ecuador'\n",
      " 'Yugoslavia' 'Hungary' 'Hong' 'Greece' 'Trinadad&Tobago'\n",
      " 'Outlying-US(Guam-USVI-etc)' 'France' 'Holand-Netherlands']\n"
     ]
    }
   ],
   "source": [
    "# Loop through each column in the dataset\n",
    "for col in onehot_cols:\n",
    "    # Get the unique values in the column\n",
    "    unique_values = df[col].unique()\n",
    "    # Print out the column name and its unique values\n",
    "    print(f'Column \"{col}\" has {len(unique_values)} unique values:')\n",
    "    print(unique_values)\n"
   ]
  },
  {
   "cell_type": "code",
   "execution_count": 75,
   "metadata": {},
   "outputs": [
    {
     "name": "stdout",
     "output_type": "stream",
     "text": [
      "2789\n",
      "1831\n",
      "2799\n",
      "1838\n",
      "856\n",
      "582\n"
     ]
    }
   ],
   "source": [
    "print(df['workclass'].value_counts()['?'])\n",
    "print(data['workclass'].value_counts()['?'])\n",
    "\n",
    "print(df['occupation'].value_counts()['?'])\n",
    "print(data['occupation'].value_counts()['?'])\n",
    "\n",
    "print(df['native-country'].value_counts()['?'])\n",
    "print(data['native-country'].value_counts()['?'])"
   ]
  },
  {
   "cell_type": "code",
   "execution_count": 76,
   "metadata": {},
   "outputs": [],
   "source": [
    "# Calculate mode of the workclass column\n",
    "mode_workclass = df['workclass'].mode()[0]\n",
    "\n",
    "# Replace \"?\" values with mode of the workclass column\n",
    "df['workclass'] = df['workclass'].replace('?', mode_workclass)\n",
    "data['workclass'] = data['workclass'].replace('?', mode_workclass)\n",
    "\n",
    "# Repeat the above steps for the 'occupation' and 'native-country' columns\n",
    "mode_occupation = df['occupation'].mode()[0]\n",
    "df['occupation'] = df['occupation'].replace('?', mode_occupation)\n",
    "data['occupation'] = data['occupation'].replace('?', mode_occupation)\n",
    "\n",
    "mode_native_country = df['native-country'].mode()[0]\n",
    "df['native-country'] = df['native-country'].replace('?', mode_native_country)\n",
    "data['native-country'] = data['native-country'].replace('?', mode_native_country)"
   ]
  },
  {
   "cell_type": "code",
   "execution_count": 77,
   "metadata": {},
   "outputs": [],
   "source": [
    "# perform one-hot encoding using pandas get_dummies method\n",
    "one_hot = pd.get_dummies(df[onehot_cols])\n",
    "one_hot_data = pd.get_dummies(data[onehot_cols])\n",
    "\n",
    "# merge the one-hot encoded columns with the original DataFrame\n",
    "df = pd.concat([df, one_hot], axis=1)\n",
    "data = pd.concat([data, one_hot_data], axis=1)\n",
    "\n",
    "# drop the original column\n",
    "df.drop(onehot_cols, axis=1, inplace=True)\n",
    "data.drop(onehot_cols, axis=1, inplace=True)"
   ]
  },
  {
   "cell_type": "code",
   "execution_count": 78,
   "metadata": {
    "scrolled": true
   },
   "outputs": [
    {
     "data": {
      "text/plain": [
       "age                                          0\n",
       "fnlwgt                                       0\n",
       "educational-num                              0\n",
       "marital-status                               0\n",
       "relationship                                 0\n",
       "race                                         0\n",
       "gender                                       0\n",
       "capital-gain                                 0\n",
       "capital-loss                                 0\n",
       "hours-per-week                               0\n",
       "income                                       0\n",
       "workclass_Federal-gov                        0\n",
       "workclass_Local-gov                          0\n",
       "workclass_Never-worked                       0\n",
       "workclass_Private                            0\n",
       "workclass_Self-emp-inc                       0\n",
       "workclass_Self-emp-not-inc                   0\n",
       "workclass_State-gov                          0\n",
       "workclass_Without-pay                        0\n",
       "occupation_Adm-clerical                      0\n",
       "occupation_Armed-Forces                      0\n",
       "occupation_Craft-repair                      0\n",
       "occupation_Exec-managerial                   0\n",
       "occupation_Farming-fishing                   0\n",
       "occupation_Handlers-cleaners                 0\n",
       "occupation_Machine-op-inspct                 0\n",
       "occupation_Other-service                     0\n",
       "occupation_Priv-house-serv                   0\n",
       "occupation_Prof-specialty                    0\n",
       "occupation_Protective-serv                   0\n",
       "occupation_Sales                             0\n",
       "occupation_Tech-support                      0\n",
       "occupation_Transport-moving                  0\n",
       "native-country_Cambodia                      0\n",
       "native-country_Canada                        0\n",
       "native-country_China                         0\n",
       "native-country_Columbia                      0\n",
       "native-country_Cuba                          0\n",
       "native-country_Dominican-Republic            0\n",
       "native-country_Ecuador                       0\n",
       "native-country_El-Salvador                   0\n",
       "native-country_England                       0\n",
       "native-country_France                        0\n",
       "native-country_Germany                       0\n",
       "native-country_Greece                        0\n",
       "native-country_Guatemala                     0\n",
       "native-country_Haiti                         0\n",
       "native-country_Holand-Netherlands            0\n",
       "native-country_Honduras                      0\n",
       "native-country_Hong                          0\n",
       "native-country_Hungary                       0\n",
       "native-country_India                         0\n",
       "native-country_Iran                          0\n",
       "native-country_Ireland                       0\n",
       "native-country_Italy                         0\n",
       "native-country_Jamaica                       0\n",
       "native-country_Japan                         0\n",
       "native-country_Laos                          0\n",
       "native-country_Mexico                        0\n",
       "native-country_Nicaragua                     0\n",
       "native-country_Outlying-US(Guam-USVI-etc)    0\n",
       "native-country_Peru                          0\n",
       "native-country_Philippines                   0\n",
       "native-country_Poland                        0\n",
       "native-country_Portugal                      0\n",
       "native-country_Puerto-Rico                   0\n",
       "native-country_Scotland                      0\n",
       "native-country_South                         0\n",
       "native-country_Taiwan                        0\n",
       "native-country_Thailand                      0\n",
       "native-country_Trinadad&Tobago               0\n",
       "native-country_United-States                 0\n",
       "native-country_Vietnam                       0\n",
       "native-country_Yugoslavia                    0\n",
       "dtype: int64"
      ]
     },
     "execution_count": 78,
     "metadata": {},
     "output_type": "execute_result"
    }
   ],
   "source": [
    "df.isnull().sum()"
   ]
  },
  {
   "cell_type": "code",
   "execution_count": 79,
   "metadata": {},
   "outputs": [
    {
     "data": {
      "text/plain": [
       "age                                          0\n",
       "fnlwgt                                       0\n",
       "educational-num                              0\n",
       "marital-status                               0\n",
       "relationship                                 0\n",
       "race                                         0\n",
       "gender                                       0\n",
       "capital-gain                                 0\n",
       "capital-loss                                 0\n",
       "hours-per-week                               0\n",
       "income                                       0\n",
       "workclass_Federal-gov                        0\n",
       "workclass_Local-gov                          0\n",
       "workclass_Never-worked                       0\n",
       "workclass_Private                            0\n",
       "workclass_Self-emp-inc                       0\n",
       "workclass_Self-emp-not-inc                   0\n",
       "workclass_State-gov                          0\n",
       "workclass_Without-pay                        0\n",
       "occupation_Adm-clerical                      0\n",
       "occupation_Armed-Forces                      0\n",
       "occupation_Craft-repair                      0\n",
       "occupation_Exec-managerial                   0\n",
       "occupation_Farming-fishing                   0\n",
       "occupation_Handlers-cleaners                 0\n",
       "occupation_Machine-op-inspct                 0\n",
       "occupation_Other-service                     0\n",
       "occupation_Priv-house-serv                   0\n",
       "occupation_Prof-specialty                    0\n",
       "occupation_Protective-serv                   0\n",
       "occupation_Sales                             0\n",
       "occupation_Tech-support                      0\n",
       "occupation_Transport-moving                  0\n",
       "native-country_Cambodia                      0\n",
       "native-country_Canada                        0\n",
       "native-country_China                         0\n",
       "native-country_Columbia                      0\n",
       "native-country_Cuba                          0\n",
       "native-country_Dominican-Republic            0\n",
       "native-country_Ecuador                       0\n",
       "native-country_El-Salvador                   0\n",
       "native-country_England                       0\n",
       "native-country_France                        0\n",
       "native-country_Germany                       0\n",
       "native-country_Greece                        0\n",
       "native-country_Guatemala                     0\n",
       "native-country_Haiti                         0\n",
       "native-country_Holand-Netherlands            0\n",
       "native-country_Honduras                      0\n",
       "native-country_Hong                          0\n",
       "native-country_Hungary                       0\n",
       "native-country_India                         0\n",
       "native-country_Iran                          0\n",
       "native-country_Ireland                       0\n",
       "native-country_Italy                         0\n",
       "native-country_Jamaica                       0\n",
       "native-country_Japan                         0\n",
       "native-country_Laos                          0\n",
       "native-country_Mexico                        0\n",
       "native-country_Nicaragua                     0\n",
       "native-country_Outlying-US(Guam-USVI-etc)    0\n",
       "native-country_Peru                          0\n",
       "native-country_Philippines                   0\n",
       "native-country_Poland                        0\n",
       "native-country_Portugal                      0\n",
       "native-country_Puerto-Rico                   0\n",
       "native-country_Scotland                      0\n",
       "native-country_South                         0\n",
       "native-country_Taiwan                        0\n",
       "native-country_Thailand                      0\n",
       "native-country_Trinadad&Tobago               0\n",
       "native-country_United-States                 0\n",
       "native-country_Vietnam                       0\n",
       "native-country_Yugoslavia                    0\n",
       "dtype: int64"
      ]
     },
     "execution_count": 79,
     "metadata": {},
     "output_type": "execute_result"
    }
   ],
   "source": [
    "data.isna().sum()"
   ]
  },
  {
   "cell_type": "code",
   "execution_count": 80,
   "metadata": {},
   "outputs": [
    {
     "data": {
      "text/html": [
       "<div>\n",
       "<style scoped>\n",
       "    .dataframe tbody tr th:only-of-type {\n",
       "        vertical-align: middle;\n",
       "    }\n",
       "\n",
       "    .dataframe tbody tr th {\n",
       "        vertical-align: top;\n",
       "    }\n",
       "\n",
       "    .dataframe thead th {\n",
       "        text-align: right;\n",
       "    }\n",
       "</style>\n",
       "<table border=\"1\" class=\"dataframe\">\n",
       "  <thead>\n",
       "    <tr style=\"text-align: right;\">\n",
       "      <th></th>\n",
       "      <th>age</th>\n",
       "      <th>fnlwgt</th>\n",
       "      <th>educational-num</th>\n",
       "      <th>marital-status</th>\n",
       "      <th>relationship</th>\n",
       "      <th>race</th>\n",
       "      <th>gender</th>\n",
       "      <th>capital-gain</th>\n",
       "      <th>capital-loss</th>\n",
       "      <th>hours-per-week</th>\n",
       "      <th>...</th>\n",
       "      <th>native-country_Portugal</th>\n",
       "      <th>native-country_Puerto-Rico</th>\n",
       "      <th>native-country_Scotland</th>\n",
       "      <th>native-country_South</th>\n",
       "      <th>native-country_Taiwan</th>\n",
       "      <th>native-country_Thailand</th>\n",
       "      <th>native-country_Trinadad&amp;Tobago</th>\n",
       "      <th>native-country_United-States</th>\n",
       "      <th>native-country_Vietnam</th>\n",
       "      <th>native-country_Yugoslavia</th>\n",
       "    </tr>\n",
       "  </thead>\n",
       "  <tbody>\n",
       "    <tr>\n",
       "      <th>0</th>\n",
       "      <td>0.545028</td>\n",
       "      <td>0.160868</td>\n",
       "      <td>0.739130</td>\n",
       "      <td>4</td>\n",
       "      <td>1</td>\n",
       "      <td>4.0</td>\n",
       "      <td>1</td>\n",
       "      <td>0.02174</td>\n",
       "      <td>0.0</td>\n",
       "      <td>0.375</td>\n",
       "      <td>...</td>\n",
       "      <td>0</td>\n",
       "      <td>0</td>\n",
       "      <td>0</td>\n",
       "      <td>0</td>\n",
       "      <td>0</td>\n",
       "      <td>0</td>\n",
       "      <td>0</td>\n",
       "      <td>1</td>\n",
       "      <td>0</td>\n",
       "      <td>0</td>\n",
       "    </tr>\n",
       "    <tr>\n",
       "      <th>1</th>\n",
       "      <td>0.708115</td>\n",
       "      <td>0.175159</td>\n",
       "      <td>0.739130</td>\n",
       "      <td>2</td>\n",
       "      <td>0</td>\n",
       "      <td>4.0</td>\n",
       "      <td>1</td>\n",
       "      <td>0.00000</td>\n",
       "      <td>0.0</td>\n",
       "      <td>0.000</td>\n",
       "      <td>...</td>\n",
       "      <td>0</td>\n",
       "      <td>0</td>\n",
       "      <td>0</td>\n",
       "      <td>0</td>\n",
       "      <td>0</td>\n",
       "      <td>0</td>\n",
       "      <td>0</td>\n",
       "      <td>1</td>\n",
       "      <td>0</td>\n",
       "      <td>0</td>\n",
       "    </tr>\n",
       "    <tr>\n",
       "      <th>2</th>\n",
       "      <td>0.527978</td>\n",
       "      <td>0.501514</td>\n",
       "      <td>0.391304</td>\n",
       "      <td>0</td>\n",
       "      <td>1</td>\n",
       "      <td>4.0</td>\n",
       "      <td>1</td>\n",
       "      <td>0.00000</td>\n",
       "      <td>0.0</td>\n",
       "      <td>0.375</td>\n",
       "      <td>...</td>\n",
       "      <td>0</td>\n",
       "      <td>0</td>\n",
       "      <td>0</td>\n",
       "      <td>0</td>\n",
       "      <td>0</td>\n",
       "      <td>0</td>\n",
       "      <td>0</td>\n",
       "      <td>1</td>\n",
       "      <td>0</td>\n",
       "      <td>0</td>\n",
       "    </tr>\n",
       "    <tr>\n",
       "      <th>3</th>\n",
       "      <td>0.746362</td>\n",
       "      <td>0.548555</td>\n",
       "      <td>0.217391</td>\n",
       "      <td>2</td>\n",
       "      <td>0</td>\n",
       "      <td>2.0</td>\n",
       "      <td>1</td>\n",
       "      <td>0.00000</td>\n",
       "      <td>0.0</td>\n",
       "      <td>0.375</td>\n",
       "      <td>...</td>\n",
       "      <td>0</td>\n",
       "      <td>0</td>\n",
       "      <td>0</td>\n",
       "      <td>0</td>\n",
       "      <td>0</td>\n",
       "      <td>0</td>\n",
       "      <td>0</td>\n",
       "      <td>1</td>\n",
       "      <td>0</td>\n",
       "      <td>0</td>\n",
       "    </tr>\n",
       "    <tr>\n",
       "      <th>4</th>\n",
       "      <td>0.327530</td>\n",
       "      <td>0.804263</td>\n",
       "      <td>0.739130</td>\n",
       "      <td>2</td>\n",
       "      <td>5</td>\n",
       "      <td>2.0</td>\n",
       "      <td>0</td>\n",
       "      <td>0.00000</td>\n",
       "      <td>0.0</td>\n",
       "      <td>0.375</td>\n",
       "      <td>...</td>\n",
       "      <td>0</td>\n",
       "      <td>0</td>\n",
       "      <td>0</td>\n",
       "      <td>0</td>\n",
       "      <td>0</td>\n",
       "      <td>0</td>\n",
       "      <td>0</td>\n",
       "      <td>0</td>\n",
       "      <td>0</td>\n",
       "      <td>0</td>\n",
       "    </tr>\n",
       "  </tbody>\n",
       "</table>\n",
       "<p>5 rows × 74 columns</p>\n",
       "</div>"
      ],
      "text/plain": [
       "        age    fnlwgt  educational-num  marital-status  relationship  race  \\\n",
       "0  0.545028  0.160868         0.739130               4             1   4.0   \n",
       "1  0.708115  0.175159         0.739130               2             0   4.0   \n",
       "2  0.527978  0.501514         0.391304               0             1   4.0   \n",
       "3  0.746362  0.548555         0.217391               2             0   2.0   \n",
       "4  0.327530  0.804263         0.739130               2             5   2.0   \n",
       "\n",
       "   gender  capital-gain  capital-loss  hours-per-week  ...  \\\n",
       "0       1       0.02174           0.0           0.375  ...   \n",
       "1       1       0.00000           0.0           0.000  ...   \n",
       "2       1       0.00000           0.0           0.375  ...   \n",
       "3       1       0.00000           0.0           0.375  ...   \n",
       "4       0       0.00000           0.0           0.375  ...   \n",
       "\n",
       "   native-country_Portugal  native-country_Puerto-Rico  \\\n",
       "0                        0                           0   \n",
       "1                        0                           0   \n",
       "2                        0                           0   \n",
       "3                        0                           0   \n",
       "4                        0                           0   \n",
       "\n",
       "   native-country_Scotland  native-country_South  native-country_Taiwan  \\\n",
       "0                        0                     0                      0   \n",
       "1                        0                     0                      0   \n",
       "2                        0                     0                      0   \n",
       "3                        0                     0                      0   \n",
       "4                        0                     0                      0   \n",
       "\n",
       "   native-country_Thailand  native-country_Trinadad&Tobago  \\\n",
       "0                        0                               0   \n",
       "1                        0                               0   \n",
       "2                        0                               0   \n",
       "3                        0                               0   \n",
       "4                        0                               0   \n",
       "\n",
       "   native-country_United-States  native-country_Vietnam  \\\n",
       "0                             1                       0   \n",
       "1                             1                       0   \n",
       "2                             1                       0   \n",
       "3                             1                       0   \n",
       "4                             0                       0   \n",
       "\n",
       "   native-country_Yugoslavia  \n",
       "0                          0  \n",
       "1                          0  \n",
       "2                          0  \n",
       "3                          0  \n",
       "4                          0  \n",
       "\n",
       "[5 rows x 74 columns]"
      ]
     },
     "execution_count": 80,
     "metadata": {},
     "output_type": "execute_result"
    }
   ],
   "source": [
    "data.head()"
   ]
  },
  {
   "cell_type": "code",
   "execution_count": 81,
   "metadata": {},
   "outputs": [],
   "source": [
    "X=df.drop(\"income\",axis=1)\n",
    "x=data.drop(\"income\",axis=1)\n",
    "y=df[\"income\"]\n",
    "Y=data[\"income\"]"
   ]
  },
  {
   "cell_type": "code",
   "execution_count": 82,
   "metadata": {},
   "outputs": [
    {
     "data": {
      "text/plain": [
       "0"
      ]
     },
     "execution_count": 82,
     "metadata": {},
     "output_type": "execute_result"
    }
   ],
   "source": [
    "y.isna().sum()"
   ]
  },
  {
   "cell_type": "code",
   "execution_count": 83,
   "metadata": {},
   "outputs": [],
   "source": [
    "from sklearn.model_selection import train_test_split\n",
    "X_train,Y_valid,X_test,Y_test=train_test_split(X,y,train_size=0.8,test_size=0.2,random_state=19)"
   ]
  },
  {
   "cell_type": "code",
   "execution_count": 84,
   "metadata": {},
   "outputs": [
    {
     "name": "stdout",
     "output_type": "stream",
     "text": [
      "(48757, 73)\n",
      "(39005, 73)\n",
      "(9752, 73)\n",
      "(39005,)\n",
      "(9752,)\n",
      "(32515, 74)\n"
     ]
    }
   ],
   "source": [
    "print(X.shape)\n",
    "print(X_train.shape)\n",
    "print(Y_valid.shape)\n",
    "print(X_test.shape)\n",
    "print(Y_test.shape)\n",
    "print(data.shape)"
   ]
  },
  {
   "cell_type": "code",
   "execution_count": 85,
   "metadata": {},
   "outputs": [
    {
     "name": "stdout",
     "output_type": "stream",
     "text": [
      "0    0.758973\n",
      "1    0.241027\n",
      "Name: income, dtype: float64\n"
     ]
    }
   ],
   "source": [
    "data['income'].unique()\n",
    "# Calculate the frequency of each value and print the results\n",
    "print(Y.value_counts(normalize=True))"
   ]
  },
  {
   "cell_type": "code",
   "execution_count": 86,
   "metadata": {},
   "outputs": [],
   "source": [
    "#!pip install imblearn"
   ]
  },
  {
   "cell_type": "markdown",
   "metadata": {},
   "source": [
    "## Now we will handle imbalanced data"
   ]
  },
  {
   "cell_type": "code",
   "execution_count": 87,
   "metadata": {},
   "outputs": [
    {
     "name": "stdout",
     "output_type": "stream",
     "text": [
      "Size of training data in oversampling\n",
      "(59334, 73) (59334,)\n",
      "(14824, 73) (14824,)\n",
      "(49356, 73) (49356,)\n"
     ]
    }
   ],
   "source": [
    "from imblearn.over_sampling import SMOTE, RandomOverSampler\n",
    "# apply the SMOTE oversampling technique to the training data\n",
    "undersample = SMOTE()\n",
    "X_train_oversampled, X_test_oversampled = undersample.fit_resample(X_train, X_test)\n",
    "Y_valid_oversampled,Y_test_oversampled=undersample.fit_resample(Y_valid,Y_test)\n",
    "Z_train_oversampled,Z_test_oversampled=undersample.fit_resample(x,Y)\n",
    "\n",
    "print('Size of training data in oversampling')\n",
    "print(X_train_oversampled.shape,X_test_oversampled.shape)\n",
    "print(Y_valid_oversampled.shape,Y_test_oversampled.shape)\n",
    "print(Z_train_oversampled.shape,Z_test_oversampled.shape)"
   ]
  },
  {
   "cell_type": "code",
   "execution_count": 88,
   "metadata": {},
   "outputs": [
    {
     "name": "stdout",
     "output_type": "stream",
     "text": [
      "1    0.5\n",
      "0    0.5\n",
      "Name: income, dtype: float64\n"
     ]
    }
   ],
   "source": [
    "print(Z_test_oversampled.value_counts(normalize=True))"
   ]
  },
  {
   "cell_type": "code",
   "execution_count": 89,
   "metadata": {},
   "outputs": [
    {
     "name": "stdout",
     "output_type": "stream",
     "text": [
      "0.7905753867934068\n"
     ]
    },
    {
     "name": "stderr",
     "output_type": "stream",
     "text": [
      "C:\\Users\\Lenovo\\anaconda3\\lib\\site-packages\\sklearn\\linear_model\\_logistic.py:458: ConvergenceWarning: lbfgs failed to converge (status=1):\n",
      "STOP: TOTAL NO. of ITERATIONS REACHED LIMIT.\n",
      "\n",
      "Increase the number of iterations (max_iter) or scale the data as shown in:\n",
      "    https://scikit-learn.org/stable/modules/preprocessing.html\n",
      "Please also refer to the documentation for alternative solver options:\n",
      "    https://scikit-learn.org/stable/modules/linear_model.html#logistic-regression\n",
      "  n_iter_i = _check_optimize_result(\n"
     ]
    }
   ],
   "source": [
    "#Fitting Logistic Regrssion\n",
    "from sklearn.metrics import confusion_matrix, accuracy_score, precision_score, recall_score, f1_score\n",
    "from sklearn.linear_model import LogisticRegression\n",
    "model1 = LogisticRegression()\n",
    "model1.fit(X_train_oversampled,X_test_oversampled)\n",
    "print(model1.score(X_train_oversampled,X_test_oversampled))\n",
    "preds1=model1.predict(Y_valid_oversampled)\n",
    "preds1_test=model1.predict(Z_train_oversampled)"
   ]
  },
  {
   "cell_type": "code",
   "execution_count": 90,
   "metadata": {},
   "outputs": [
    {
     "name": "stdout",
     "output_type": "stream",
     "text": [
      "Confusion matrix:\n",
      " [[5827 1585]\n",
      " [1258 6154]]\n",
      "Accuracy: 0.81\n",
      "Precision: 0.80\n",
      "Recall: 0.83\n",
      "F1 score: 0.81\n"
     ]
    }
   ],
   "source": [
    "# compute the confusion matrix\n",
    "matrix = confusion_matrix(Y_test_oversampled,preds1)\n",
    "# compute the evaluation metrics\n",
    "accuracy = accuracy_score(Y_test_oversampled,preds1)\n",
    "precision = precision_score(Y_test_oversampled,preds1)\n",
    "recall = recall_score(Y_test_oversampled,preds1)\n",
    "f1 = f1_score(Y_test_oversampled,preds1)\n",
    "\n",
    "print(\"Confusion matrix:\\n\", matrix)\n",
    "print(\"Accuracy: {:.2f}\".format(accuracy))\n",
    "print(\"Precision: {:.2f}\".format(precision))\n",
    "print(\"Recall: {:.2f}\".format(recall))\n",
    "print(\"F1 score: {:.2f}\".format(f1))"
   ]
  },
  {
   "cell_type": "code",
   "execution_count": 91,
   "metadata": {},
   "outputs": [
    {
     "name": "stdout",
     "output_type": "stream",
     "text": [
      "Confusion matrix:\n",
      " [[19283  5395]\n",
      " [ 4608 20070]]\n",
      "Accuracy: 0.80\n",
      "Precision: 0.79\n",
      "Recall: 0.81\n",
      "F1 score: 0.80\n"
     ]
    }
   ],
   "source": [
    "# compute the confusion matrix\n",
    "matrix = confusion_matrix(Z_test_oversampled,preds1_test)\n",
    "# compute the evaluation metrics\n",
    "accuracy = accuracy_score(Z_test_oversampled,preds1_test)\n",
    "precision = precision_score(Z_test_oversampled,preds1_test)\n",
    "recall = recall_score(Z_test_oversampled,preds1_test)\n",
    "f1 = f1_score(Z_test_oversampled,preds1_test)\n",
    "\n",
    "print(\"Confusion matrix:\\n\", matrix)\n",
    "print(\"Accuracy: {:.2f}\".format(accuracy))\n",
    "print(\"Precision: {:.2f}\".format(precision))\n",
    "print(\"Recall: {:.2f}\".format(recall))\n",
    "print(\"F1 score: {:.2f}\".format(f1))"
   ]
  },
  {
   "cell_type": "code",
   "execution_count": 92,
   "metadata": {},
   "outputs": [
    {
     "data": {
      "image/png": "[encoded data removed]",
      "text/plain": [
       "<Figure size 720x360 with 1 Axes>"
      ]
     },
     "metadata": {
      "needs_background": "light"
     },
     "output_type": "display_data"
    }
   ],
   "source": [
    "# Extract the feature coefficients\n",
    "coefficients = model1.coef_[0]\n",
    "\n",
    "# Create a Pandas series to store the feature coefficients\n",
    "feature_coefficients = pd.Series(coefficients, index=X_train.columns).sort_values(ascending=False)\n",
    "top_10_features = feature_coefficients.head(10)\n",
    "\n",
    "# Visualize the feature coefficients\n",
    "plt.figure(figsize=(10, 5))\n",
    "sns.barplot(x=top_10_features.values, y=top_10_features.index)\n",
    "plt.title('Feature Coefficients')\n",
    "plt.xlabel('Coefficient Value')\n",
    "plt.show()"
   ]
  },
  {
   "cell_type": "code",
   "execution_count": 159,
   "metadata": {},
   "outputs": [
    {
     "name": "stdout",
     "output_type": "stream",
     "text": [
      "0.8274345232076044\n",
      "Wall time: 12min 38s\n"
     ]
    }
   ],
   "source": [
    "%%time\n",
    "# Fitting SVM Classifier\n",
    "from sklearn import svm\n",
    "\n",
    "model2 = svm.SVC()\n",
    "model2.fit(X_train_oversampled,X_test_oversampled)\n",
    "print(model2.score(X_train_oversampled,X_test_oversampled))\n",
    "preds2=model2.predict(Y_valid_oversampled)\n",
    "preds2_test=model2.predict(Z_train_oversampled)"
   ]
  },
  {
   "cell_type": "code",
   "execution_count": 158,
   "metadata": {},
   "outputs": [
    {
     "name": "stdout",
     "output_type": "stream",
     "text": [
      "Confusion matrix:\n",
      " [[5666 1746]\n",
      " [ 689 6723]]\n",
      "Accuracy: 0.84\n",
      "Precision: 0.79\n",
      "Recall: 0.91\n",
      "F1 score: 0.85\n"
     ]
    }
   ],
   "source": [
    "# compute the confusion matrix\n",
    "matrix = confusion_matrix(Y_test_oversampled,preds2)\n",
    "# compute the evaluation metrics\n",
    "accuracy = accuracy_score(Y_test_oversampled,preds2)\n",
    "precision = precision_score(Y_test_oversampled,preds2)\n",
    "recall = recall_score(Y_test_oversampled,preds2)\n",
    "f1 = f1_score(Y_test_oversampled,preds2)\n",
    "\n",
    "print(\"Confusion matrix:\\n\", matrix)\n",
    "print(\"Accuracy: {:.2f}\".format(accuracy))\n",
    "print(\"Precision: {:.2f}\".format(precision))\n",
    "print(\"Recall: {:.2f}\".format(recall))\n",
    "print(\"F1 score: {:.2f}\".format(f1))"
   ]
  },
  {
   "cell_type": "code",
   "execution_count": null,
   "metadata": {},
   "outputs": [],
   "source": [
    "# compute the confusion matrix\n",
    "matrix = confusion_matrix(Z_test_oversampled,preds2_test)\n",
    "# compute the evaluation metrics\n",
    "accuracy = accuracy_score(Z_test_oversampled,preds2_test)\n",
    "precision = precision_score(Z_test_oversampled,preds2_test)\n",
    "recall = recall_score(Z_test_oversampled,preds2_test)\n",
    "f1 = f1_score(Z_test_oversampled,preds2_test)\n",
    "\n",
    "print(\"Confusion matrix:\\n\", matrix)\n",
    "print(\"Accuracy: {:.2f}\".format(accuracy))\n",
    "print(\"Precision: {:.2f}\".format(precision))\n",
    "print(\"Recall: {:.2f}\".format(recall))\n",
    "print(\"F1 score: {:.2f}\".format(f1))"
   ]
  },
  {
   "cell_type": "code",
   "execution_count": 97,
   "metadata": {},
   "outputs": [
    {
     "name": "stdout",
     "output_type": "stream",
     "text": [
      "0.5942461320659318\n"
     ]
    }
   ],
   "source": [
    "from sklearn.naive_bayes import GaussianNB\n",
    "\n",
    "model3 = GaussianNB()\n",
    "model3.fit(X_train_oversampled,X_test_oversampled)\n",
    "print(model3.score(X_train_oversampled,X_test_oversampled))\n",
    "preds3=model3.predict(Y_valid_oversampled)\n",
    "preds3_test=model3.predict(Z_train_oversampled)"
   ]
  },
  {
   "cell_type": "code",
   "execution_count": 98,
   "metadata": {},
   "outputs": [
    {
     "name": "stdout",
     "output_type": "stream",
     "text": [
      "Confusion matrix:\n",
      " [[1640 5772]\n",
      " [ 200 7212]]\n",
      "Accuracy: 0.60\n",
      "Precision: 0.56\n",
      "Recall: 0.97\n",
      "F1 score: 0.71\n"
     ]
    }
   ],
   "source": [
    "# compute the confusion matrix\n",
    "matrix = confusion_matrix(Y_test_oversampled,preds3)\n",
    "# compute the evaluation metrics\n",
    "accuracy = accuracy_score(Y_test_oversampled,preds3)\n",
    "precision = precision_score(Y_test_oversampled,preds3)\n",
    "recall = recall_score(Y_test_oversampled,preds3)\n",
    "f1 = f1_score(Y_test_oversampled,preds3)\n",
    "\n",
    "print(\"Confusion matrix:\\n\", matrix)\n",
    "print(\"Accuracy: {:.2f}\".format(accuracy))\n",
    "print(\"Precision: {:.2f}\".format(precision))\n",
    "print(\"Recall: {:.2f}\".format(recall))\n",
    "print(\"F1 score: {:.2f}\".format(f1))"
   ]
  },
  {
   "cell_type": "code",
   "execution_count": 99,
   "metadata": {},
   "outputs": [
    {
     "name": "stdout",
     "output_type": "stream",
     "text": [
      "Confusion matrix:\n",
      " [[ 5415 19263]\n",
      " [  705 23973]]\n",
      "Accuracy: 0.60\n",
      "Precision: 0.55\n",
      "Recall: 0.97\n",
      "F1 score: 0.71\n"
     ]
    }
   ],
   "source": [
    "# compute the confusion matrix\n",
    "matrix = confusion_matrix(Z_test_oversampled,preds3_test)\n",
    "# compute the evaluation metrics\n",
    "accuracy = accuracy_score(Z_test_oversampled,preds3_test)\n",
    "precision = precision_score(Z_test_oversampled,preds3_test)\n",
    "recall = recall_score(Z_test_oversampled,preds3_test)\n",
    "f1 = f1_score(Z_test_oversampled,preds3_test)\n",
    "\n",
    "print(\"Confusion matrix:\\n\", matrix)\n",
    "print(\"Accuracy: {:.2f}\".format(accuracy))\n",
    "print(\"Precision: {:.2f}\".format(precision))\n",
    "print(\"Recall: {:.2f}\".format(recall))\n",
    "print(\"F1 score: {:.2f}\".format(f1))"
   ]
  },
  {
   "cell_type": "code",
   "execution_count": null,
   "metadata": {},
   "outputs": [],
   "source": []
  },
  {
   "cell_type": "code",
   "execution_count": 100,
   "metadata": {},
   "outputs": [
    {
     "name": "stdout",
     "output_type": "stream",
     "text": [
      "0.7382445141065831\n"
     ]
    }
   ],
   "source": [
    "from sklearn.naive_bayes import MultinomialNB\n",
    "\n",
    "model4 = MultinomialNB()\n",
    "model4.fit(X_train_oversampled,X_test_oversampled)\n",
    "print(model4.score(X_train_oversampled,X_test_oversampled))\n",
    "preds4=model4.predict(Y_valid_oversampled)\n",
    "preds4_test=model4.predict(Z_train_oversampled)"
   ]
  },
  {
   "cell_type": "code",
   "execution_count": 101,
   "metadata": {},
   "outputs": [
    {
     "name": "stdout",
     "output_type": "stream",
     "text": [
      "Confusion matrix:\n",
      " [[4880 2532]\n",
      " [1234 6178]]\n",
      "Accuracy: 0.75\n",
      "Precision: 0.71\n",
      "Recall: 0.83\n",
      "F1 score: 0.77\n"
     ]
    }
   ],
   "source": [
    "# compute the confusion matrix\n",
    "matrix = confusion_matrix(Y_test_oversampled,preds4)\n",
    "# compute the evaluation metrics\n",
    "accuracy = accuracy_score(Y_test_oversampled,preds4)\n",
    "precision = precision_score(Y_test_oversampled,preds4)\n",
    "recall = recall_score(Y_test_oversampled,preds4)\n",
    "f1 = f1_score(Y_test_oversampled,preds4)\n",
    "\n",
    "print(\"Confusion matrix:\\n\", matrix)\n",
    "print(\"Accuracy: {:.2f}\".format(accuracy))\n",
    "print(\"Precision: {:.2f}\".format(precision))\n",
    "print(\"Recall: {:.2f}\".format(recall))\n",
    "print(\"F1 score: {:.2f}\".format(f1))"
   ]
  },
  {
   "cell_type": "code",
   "execution_count": 102,
   "metadata": {},
   "outputs": [
    {
     "name": "stdout",
     "output_type": "stream",
     "text": [
      "Confusion matrix:\n",
      " [[16256  8422]\n",
      " [ 4374 20304]]\n",
      "Accuracy: 0.74\n",
      "Precision: 0.71\n",
      "Recall: 0.82\n",
      "F1 score: 0.76\n"
     ]
    }
   ],
   "source": [
    "# compute the confusion matrix\n",
    "matrix = confusion_matrix(Z_test_oversampled,preds4_test)\n",
    "# compute the evaluation metrics\n",
    "accuracy = accuracy_score(Z_test_oversampled,preds4_test)\n",
    "precision = precision_score(Z_test_oversampled,preds4_test)\n",
    "recall = recall_score(Z_test_oversampled,preds4_test)\n",
    "f1 = f1_score(Z_test_oversampled,preds4_test)\n",
    "\n",
    "print(\"Confusion matrix:\\n\", matrix)\n",
    "print(\"Accuracy: {:.2f}\".format(accuracy))\n",
    "print(\"Precision: {:.2f}\".format(precision))\n",
    "print(\"Recall: {:.2f}\".format(recall))\n",
    "print(\"F1 score: {:.2f}\".format(f1))"
   ]
  },
  {
   "cell_type": "code",
   "execution_count": null,
   "metadata": {},
   "outputs": [],
   "source": []
  },
  {
   "cell_type": "code",
   "execution_count": 103,
   "metadata": {},
   "outputs": [],
   "source": [
    "from sklearn.decomposition import PCA\n",
    "model5 = PCA()\n",
    "model5.fit_transform(X_train_oversampled)\n",
    "var=model5.explained_variance_ratio_"
   ]
  },
  {
   "cell_type": "code",
   "execution_count": 104,
   "metadata": {},
   "outputs": [
    {
     "data": {
      "text/plain": [
       "array([4.18421194e-01, 2.35693095e-01, 9.12138186e-02, 3.67850029e-02,\n",
       "       2.76675287e-02, 2.22391489e-02, 1.84819614e-02, 1.69704595e-02,\n",
       "       1.26169918e-02, 1.23954955e-02, 1.06829145e-02, 1.00875121e-02,\n",
       "       9.81417163e-03, 8.15312412e-03, 7.70380778e-03, 7.21731209e-03,\n",
       "       6.51795876e-03, 6.12493185e-03, 5.25492831e-03, 5.06704345e-03,\n",
       "       4.79238178e-03, 4.55528882e-03, 3.72825555e-03, 3.13530437e-03,\n",
       "       2.67798692e-03, 1.55569715e-03, 1.41130218e-03, 1.25097092e-03,\n",
       "       6.88120836e-04, 5.14829206e-04, 4.74155164e-04, 4.39730388e-04,\n",
       "       3.91978806e-04, 3.59144031e-04, 3.24054463e-04, 3.10839967e-04,\n",
       "       2.97735654e-04, 2.71882430e-04, 2.66214356e-04, 2.54923632e-04,\n",
       "       2.36770075e-04, 2.12948715e-04, 2.02467389e-04, 1.93671416e-04,\n",
       "       1.85177138e-04, 1.77217721e-04, 1.72801094e-04, 1.56343312e-04,\n",
       "       1.48560811e-04, 1.44258450e-04, 1.20637198e-04, 1.12135485e-04,\n",
       "       1.04519388e-04, 9.33628962e-05, 8.70714978e-05, 8.00033966e-05,\n",
       "       7.32130883e-05, 6.80997690e-05, 6.47474600e-05, 6.20283695e-05,\n",
       "       5.60544137e-05, 5.01999047e-05, 4.90724721e-05, 4.77978376e-05,\n",
       "       4.60754280e-05, 4.24494956e-05, 4.06715307e-05, 3.88734127e-05,\n",
       "       3.87084203e-05, 3.67865953e-05, 2.93192304e-05, 1.87587177e-05,\n",
       "       3.24165447e-33])"
      ]
     },
     "execution_count": 104,
     "metadata": {},
     "output_type": "execute_result"
    }
   ],
   "source": [
    "# check how much variance is explained by each principal component\n",
    "var"
   ]
  },
  {
   "cell_type": "code",
   "execution_count": 105,
   "metadata": {},
   "outputs": [
    {
     "data": {
      "text/plain": [
       "96.91084012425326"
      ]
     },
     "execution_count": 105,
     "metadata": {},
     "output_type": "execute_result"
    }
   ],
   "source": [
    "# Here we get that the 96.89 % variation is explained by 20 principal components\n",
    "sum(sorted(var,reverse=True)[:20])*100"
   ]
  },
  {
   "cell_type": "code",
   "execution_count": 106,
   "metadata": {},
   "outputs": [
    {
     "data": {
      "image/png": "[encoded data removed]",
      "text/plain": [
       "<Figure size 432x288 with 1 Axes>"
      ]
     },
     "metadata": {
      "needs_background": "light"
     },
     "output_type": "display_data"
    }
   ],
   "source": [
    "import matplotlib.pyplot as plt\n",
    "import numpy as np\n",
    "plt.plot(np.cumsum(var))\n",
    "plt.show()"
   ]
  },
  {
   "cell_type": "code",
   "execution_count": 107,
   "metadata": {},
   "outputs": [],
   "source": [
    "from sklearn.pipeline import Pipeline\n",
    "from sklearn.naive_bayes import GaussianNB\n",
    "\n",
    "_pca = PCA(n_components = 20)\n",
    "_model = GaussianNB()\n",
    "pca_Gaussian_model = Pipeline([\n",
    "    ('pca', _pca),\n",
    "    ('regressor', _model)\n",
    "])"
   ]
  },
  {
   "cell_type": "code",
   "execution_count": 108,
   "metadata": {},
   "outputs": [
    {
     "data": {
      "text/html": [
       "<style>#sk-container-id-1 {color: black;background-color: white;}#sk-container-id-1 pre{padding: 0;}#sk-container-id-1 div.sk-toggleable {background-color: white;}#sk-container-id-1 label.sk-toggleable__label {cursor: pointer;display: block;width: 100%;margin-bottom: 0;padding: 0.3em;box-sizing: border-box;text-align: center;}#sk-container-id-1 label.sk-toggleable__label-arrow:before {content: \"▸\";float: left;margin-right: 0.25em;color: #696969;}#sk-container-id-1 label.sk-toggleable__label-arrow:hover:before {color: black;}#sk-container-id-1 div.sk-estimator:hover label.sk-toggleable__label-arrow:before {color: black;}#sk-container-id-1 div.sk-toggleable__content {max-height: 0;max-width: 0;overflow: hidden;text-align: left;background-color: #f0f8ff;}#sk-container-id-1 div.sk-toggleable__content pre {margin: 0.2em;color: black;border-radius: 0.25em;background-color: #f0f8ff;}#sk-container-id-1 input.sk-toggleable__control:checked~div.sk-toggleable__content {max-height: 200px;max-width: 100%;overflow: auto;}#sk-container-id-1 input.sk-toggleable__control:checked~label.sk-toggleable__label-arrow:before {content: \"▾\";}#sk-container-id-1 div.sk-estimator input.sk-toggleable__control:checked~label.sk-toggleable__label {background-color: #d4ebff;}#sk-container-id-1 div.sk-label input.sk-toggleable__control:checked~label.sk-toggleable__label {background-color: #d4ebff;}#sk-container-id-1 input.sk-hidden--visually {border: 0;clip: rect(1px 1px 1px 1px);clip: rect(1px, 1px, 1px, 1px);height: 1px;margin: -1px;overflow: hidden;padding: 0;position: absolute;width: 1px;}#sk-container-id-1 div.sk-estimator {font-family: monospace;background-color: #f0f8ff;border: 1px dotted black;border-radius: 0.25em;box-sizing: border-box;margin-bottom: 0.5em;}#sk-container-id-1 div.sk-estimator:hover {background-color: #d4ebff;}#sk-container-id-1 div.sk-parallel-item::after {content: \"\";width: 100%;border-bottom: 1px solid gray;flex-grow: 1;}#sk-container-id-1 div.sk-label:hover label.sk-toggleable__label {background-color: #d4ebff;}#sk-container-id-1 div.sk-serial::before {content: \"\";position: absolute;border-left: 1px solid gray;box-sizing: border-box;top: 0;bottom: 0;left: 50%;z-index: 0;}#sk-container-id-1 div.sk-serial {display: flex;flex-direction: column;align-items: center;background-color: white;padding-right: 0.2em;padding-left: 0.2em;position: relative;}#sk-container-id-1 div.sk-item {position: relative;z-index: 1;}#sk-container-id-1 div.sk-parallel {display: flex;align-items: stretch;justify-content: center;background-color: white;position: relative;}#sk-container-id-1 div.sk-item::before, #sk-container-id-1 div.sk-parallel-item::before {content: \"\";position: absolute;border-left: 1px solid gray;box-sizing: border-box;top: 0;bottom: 0;left: 50%;z-index: -1;}#sk-container-id-1 div.sk-parallel-item {display: flex;flex-direction: column;z-index: 1;position: relative;background-color: white;}#sk-container-id-1 div.sk-parallel-item:first-child::after {align-self: flex-end;width: 50%;}#sk-container-id-1 div.sk-parallel-item:last-child::after {align-self: flex-start;width: 50%;}#sk-container-id-1 div.sk-parallel-item:only-child::after {width: 0;}#sk-container-id-1 div.sk-dashed-wrapped {border: 1px dashed gray;margin: 0 0.4em 0.5em 0.4em;box-sizing: border-box;padding-bottom: 0.4em;background-color: white;}#sk-container-id-1 div.sk-label label {font-family: monospace;font-weight: bold;display: inline-block;line-height: 1.2em;}#sk-container-id-1 div.sk-label-container {text-align: center;}#sk-container-id-1 div.sk-container {/* jupyter's `normalize.less` sets `[hidden] { display: none; }` but bootstrap.min.css set `[hidden] { display: none !important; }` so we also need the `!important` here to be able to override the default hidden behavior on the sphinx rendered scikit-learn.org. See: https://github.com/scikit-learn/scikit-learn/issues/21755 */display: inline-block !important;position: relative;}#sk-container-id-1 div.sk-text-repr-fallback {display: none;}</style><div id=\"sk-container-id-1\" class=\"sk-top-container\"><div class=\"sk-text-repr-fallback\"><pre>Pipeline(steps=[(&#x27;pca&#x27;, PCA(n_components=20)), (&#x27;regressor&#x27;, GaussianNB())])</pre><b>In a Jupyter environment, please rerun this cell to show the HTML representation or trust the notebook. <br />On GitHub, the HTML representation is unable to render, please try loading this page with nbviewer.org.</b></div><div class=\"sk-container\" hidden><div class=\"sk-item sk-dashed-wrapped\"><div class=\"sk-label-container\"><div class=\"sk-label sk-toggleable\"><input class=\"sk-toggleable__control sk-hidden--visually\" id=\"sk-estimator-id-1\" type=\"checkbox\" ><label for=\"sk-estimator-id-1\" class=\"sk-toggleable__label sk-toggleable__label-arrow\">Pipeline</label><div class=\"sk-toggleable__content\"><pre>Pipeline(steps=[(&#x27;pca&#x27;, PCA(n_components=20)), (&#x27;regressor&#x27;, GaussianNB())])</pre></div></div></div><div class=\"sk-serial\"><div class=\"sk-item\"><div class=\"sk-estimator sk-toggleable\"><input class=\"sk-toggleable__control sk-hidden--visually\" id=\"sk-estimator-id-2\" type=\"checkbox\" ><label for=\"sk-estimator-id-2\" class=\"sk-toggleable__label sk-toggleable__label-arrow\">PCA</label><div class=\"sk-toggleable__content\"><pre>PCA(n_components=20)</pre></div></div></div><div class=\"sk-item\"><div class=\"sk-estimator sk-toggleable\"><input class=\"sk-toggleable__control sk-hidden--visually\" id=\"sk-estimator-id-3\" type=\"checkbox\" ><label for=\"sk-estimator-id-3\" class=\"sk-toggleable__label sk-toggleable__label-arrow\">GaussianNB</label><div class=\"sk-toggleable__content\"><pre>GaussianNB()</pre></div></div></div></div></div></div></div>"
      ],
      "text/plain": [
       "Pipeline(steps=[('pca', PCA(n_components=20)), ('regressor', GaussianNB())])"
      ]
     },
     "execution_count": 108,
     "metadata": {},
     "output_type": "execute_result"
    }
   ],
   "source": [
    "# train the model using the PCA components\n",
    "pca_Gaussian_model.fit(X_train_oversampled,X_test_oversampled)"
   ]
  },
  {
   "cell_type": "code",
   "execution_count": 109,
   "metadata": {},
   "outputs": [
    {
     "data": {
      "text/plain": [
       "0.7319917753733104"
      ]
     },
     "execution_count": 109,
     "metadata": {},
     "output_type": "execute_result"
    }
   ],
   "source": [
    "pca_Gaussian_model.score(X_train_oversampled,X_test_oversampled)"
   ]
  },
  {
   "cell_type": "code",
   "execution_count": 110,
   "metadata": {},
   "outputs": [
    {
     "name": "stdout",
     "output_type": "stream",
     "text": [
      "Confusion matrix:\n",
      " [[5338 2074]\n",
      " [1743 5669]]\n",
      "Accuracy: 0.74\n",
      "Precision: 0.73\n",
      "Recall: 0.76\n",
      "F1 score: 0.75\n"
     ]
    }
   ],
   "source": [
    "preds8=pca_Gaussian_model.predict(Y_valid_oversampled)\n",
    "preds8_test=pca_Gaussian_model.predict(Z_train_oversampled)\n",
    "\n",
    "from sklearn.metrics import confusion_matrix, accuracy_score, precision_score, recall_score, f1_score\n",
    "# compute the confusion matrix\n",
    "matrix = confusion_matrix(Y_test_oversampled,preds8)\n",
    "# compute the evaluation metrics\n",
    "accuracy = accuracy_score(Y_test_oversampled,preds8)\n",
    "precision = precision_score(Y_test_oversampled,preds8)\n",
    "recall = recall_score(Y_test_oversampled,preds8)\n",
    "f1 = f1_score(Y_test_oversampled,preds8)\n",
    "\n",
    "print(\"Confusion matrix:\\n\", matrix)\n",
    "print(\"Accuracy: {:.2f}\".format(accuracy))\n",
    "print(\"Precision: {:.2f}\".format(precision))\n",
    "print(\"Recall: {:.2f}\".format(recall))\n",
    "print(\"F1 score: {:.2f}\".format(f1))"
   ]
  },
  {
   "cell_type": "code",
   "execution_count": 111,
   "metadata": {},
   "outputs": [
    {
     "name": "stdout",
     "output_type": "stream",
     "text": [
      "Confusion matrix:\n",
      " [[17783  6895]\n",
      " [ 6243 18435]]\n",
      "Accuracy: 0.73\n",
      "Precision: 0.73\n",
      "Recall: 0.75\n",
      "F1 score: 0.74\n"
     ]
    }
   ],
   "source": [
    "matrix = confusion_matrix(Z_test_oversampled,preds8_test)\n",
    "# compute the evaluation metrics\n",
    "accuracy = accuracy_score(Z_test_oversampled,preds8_test)\n",
    "precision = precision_score(Z_test_oversampled,preds8_test)\n",
    "recall = recall_score(Z_test_oversampled,preds8_test)\n",
    "f1 = f1_score(Z_test_oversampled,preds8_test)\n",
    "\n",
    "print(\"Confusion matrix:\\n\", matrix)\n",
    "print(\"Accuracy: {:.2f}\".format(accuracy))\n",
    "print(\"Precision: {:.2f}\".format(precision))\n",
    "print(\"Recall: {:.2f}\".format(recall))\n",
    "print(\"F1 score: {:.2f}\".format(f1))"
   ]
  },
  {
   "cell_type": "code",
   "execution_count": 112,
   "metadata": {},
   "outputs": [
    {
     "data": {
      "image/png": "[encoded data removed]",
      "text/plain": [
       "<Figure size 432x288 with 1 Axes>"
      ]
     },
     "metadata": {
      "needs_background": "light"
     },
     "output_type": "display_data"
    }
   ],
   "source": [
    "from sklearn.metrics import roc_curve, auc\n",
    "import matplotlib.pyplot as plt\n",
    "\n",
    "# Calculate the false positive rate, true positive rate, and threshold for each model\n",
    "fpr_logreg, tpr_logreg, thresholds_logreg = roc_curve(Z_test_oversampled, preds1_test)\n",
    "#fpr_svm, tpr_svm, thresholds_svm = roc_curve(Z_test_oversampled, preds2_test)\n",
    "fpr_gnb, tpr_gnb, thresholds_gnb = roc_curve(Z_test_oversampled, preds8_test)\n",
    "fpr_mnb, tpr_mnb, thresholds_mnb = roc_curve(Z_test_oversampled, preds4_test)\n",
    "\n",
    "# Calculate the AUC score for each model\n",
    "auc_logreg = auc(fpr_logreg, tpr_logreg)\n",
    "#auc_svm = auc(fpr_svm, tpr_svm)\n",
    "auc_gnb = auc(fpr_gnb, tpr_gnb)\n",
    "auc_mnb = auc(fpr_mnb, tpr_mnb)\n",
    "\n",
    "# Plot the ROC AUC curves for each model\n",
    "plt.plot(fpr_logreg, tpr_logreg, label=f'Logistic Regression (AUC = {auc_logreg:.2f})')\n",
    "#plt.plot(fpr_svm, tpr_svm, label=f'SVM (AUC = {auc_svm:.2f})')\n",
    "plt.plot(fpr_gnb, tpr_gnb, label=f'Gaussian Naive Bayes (AUC = {auc_gnb:.2f})')\n",
    "plt.plot(fpr_mnb, tpr_mnb, label=f'MNomialNaive Bayes (AUC = {auc_mnb:.2f})')\n",
    "plt.plot([0, 1], [0, 1], linestyle='--', color='gray', label='Random Guess')\n",
    "\n",
    "plt.xlabel('False Positive Rate')\n",
    "plt.ylabel('True Positive Rate')\n",
    "plt.title('ROC Curve')\n",
    "plt.legend()\n",
    "plt.show()"
   ]
  },
  {
   "cell_type": "code",
   "execution_count": 113,
   "metadata": {},
   "outputs": [],
   "source": [
    "#%%time\n",
    "#from sklearn.feature_selection import RFE\n",
    "#from sklearn.svm import SVC\n",
    "\n",
    "# Assuming X is the feature matrix and y is the target variable\n",
    "#svm = SVC(kernel='linear', C=1)\n",
    "#rfe = RFE(svm, n_features_to_select=10)\n",
    "#rfe.fit(X_train_oversampled,X_test_oversampled)\n",
    "\n",
    "# The features with high ranks are the most important ones\n",
    "#print(rfe.ranking_)"
   ]
  },
  {
   "cell_type": "code",
   "execution_count": 114,
   "metadata": {},
   "outputs": [
    {
     "name": "stdout",
     "output_type": "stream",
     "text": [
      "0.8512657161155492\n"
     ]
    }
   ],
   "source": [
    "#Random Forest\n",
    "from sklearn.ensemble import RandomForestClassifier\n",
    "\n",
    "# Train a Random Forest classifier\n",
    "rf = RandomForestClassifier(n_estimators=100, max_depth=10, random_state=42)\n",
    "\n",
    "rf.fit(X_train_oversampled,X_test_oversampled)\n",
    "print(rf.score(X_train_oversampled,X_test_oversampled))\n",
    "preds5=rf.predict(Y_valid_oversampled)\n",
    "preds5_test=rf.predict(Z_train_oversampled)"
   ]
  },
  {
   "cell_type": "code",
   "execution_count": 115,
   "metadata": {},
   "outputs": [
    {
     "name": "stdout",
     "output_type": "stream",
     "text": [
      "Confusion matrix:\n",
      " [[5805 1607]\n",
      " [ 682 6730]]\n",
      "Accuracy: 0.85\n",
      "Precision: 0.81\n",
      "Recall: 0.91\n",
      "F1 score: 0.85\n"
     ]
    }
   ],
   "source": [
    "# compute the confusion matrix\n",
    "matrix = confusion_matrix(Y_test_oversampled,preds5)\n",
    "# compute the evaluation metrics\n",
    "accuracy = accuracy_score(Y_test_oversampled,preds5)\n",
    "precision = precision_score(Y_test_oversampled,preds5)\n",
    "recall = recall_score(Y_test_oversampled,preds5)\n",
    "f1 = f1_score(Y_test_oversampled,preds5)\n",
    "\n",
    "print(\"Confusion matrix:\\n\", matrix)\n",
    "print(\"Accuracy: {:.2f}\".format(accuracy))\n",
    "print(\"Precision: {:.2f}\".format(precision))\n",
    "print(\"Recall: {:.2f}\".format(recall))\n",
    "print(\"F1 score: {:.2f}\".format(f1))"
   ]
  },
  {
   "cell_type": "code",
   "execution_count": 116,
   "metadata": {},
   "outputs": [
    {
     "name": "stdout",
     "output_type": "stream",
     "text": [
      "Confusion matrix:\n",
      " [[19446  5232]\n",
      " [ 2183 22495]]\n",
      "Accuracy: 0.85\n",
      "Precision: 0.81\n",
      "Recall: 0.91\n",
      "F1 score: 0.86\n"
     ]
    }
   ],
   "source": [
    "matrix = confusion_matrix(Z_test_oversampled,preds5_test)\n",
    "# compute the evaluation metrics\n",
    "accuracy = accuracy_score(Z_test_oversampled,preds5_test)\n",
    "precision = precision_score(Z_test_oversampled,preds5_test)\n",
    "recall = recall_score(Z_test_oversampled,preds5_test)\n",
    "f1 = f1_score(Z_test_oversampled,preds5_test)\n",
    "\n",
    "print(\"Confusion matrix:\\n\", matrix)\n",
    "print(\"Accuracy: {:.2f}\".format(accuracy))\n",
    "print(\"Precision: {:.2f}\".format(precision))\n",
    "print(\"Recall: {:.2f}\".format(recall))\n",
    "print(\"F1 score: {:.2f}\".format(f1))"
   ]
  },
  {
   "cell_type": "code",
   "execution_count": 117,
   "metadata": {},
   "outputs": [
    {
     "data": {
      "image/png": "[encoded data removed]",
      "text/plain": [
       "<Figure size 720x432 with 1 Axes>"
      ]
     },
     "metadata": {
      "needs_background": "light"
     },
     "output_type": "display_data"
    }
   ],
   "source": [
    "# Extract the feature importances\n",
    "feature_importances = pd.Series(rf.feature_importances_, index=X_train.columns).sort_values(ascending=False)\n",
    "\n",
    "\n",
    "# Visualize the feature importances\n",
    "fig, ax = plt.subplots(figsize=(10, 6))\n",
    "feature_importances[:10].plot.bar(ax=ax)\n",
    "ax.set_title('Feature Importances')\n",
    "ax.set_xlabel('Features')\n",
    "ax.set_ylabel('Importance')\n",
    "plt.show()"
   ]
  },
  {
   "cell_type": "code",
   "execution_count": 118,
   "metadata": {},
   "outputs": [
    {
     "name": "stdout",
     "output_type": "stream",
     "text": [
      "0.8669565510499883\n"
     ]
    }
   ],
   "source": [
    "# Train a Decision Tree classifier\n",
    "from sklearn.tree import DecisionTreeClassifier\n",
    "import matplotlib.pyplot as plt \n",
    "dt = DecisionTreeClassifier(max_depth=10, random_state=42)\n",
    "dt.fit(X_train_oversampled, X_test_oversampled)\n",
    "print(dt.score(X_train_oversampled,X_test_oversampled))\n",
    "\n",
    "# Evaluate the performance of the classifier\n",
    "preds6 = dt.predict(Y_valid_oversampled)\n",
    "preds6_test = dt.predict(Z_train_oversampled)"
   ]
  },
  {
   "cell_type": "code",
   "execution_count": 119,
   "metadata": {},
   "outputs": [
    {
     "name": "stdout",
     "output_type": "stream",
     "text": [
      "Confusion matrix:\n",
      " [[6118 1294]\n",
      " [ 839 6573]]\n",
      "Accuracy: 0.86\n",
      "Precision: 0.84\n",
      "Recall: 0.89\n",
      "F1 score: 0.86\n"
     ]
    }
   ],
   "source": [
    "# compute the confusion matrix\n",
    "matrix = confusion_matrix(Y_test_oversampled,preds6)\n",
    "# compute the evaluation metrics\n",
    "accuracy = accuracy_score(Y_test_oversampled,preds6)\n",
    "precision = precision_score(Y_test_oversampled,preds6)\n",
    "recall = recall_score(Y_test_oversampled,preds6)\n",
    "f1 = f1_score(Y_test_oversampled,preds6)\n",
    "\n",
    "print(\"Confusion matrix:\\n\", matrix)\n",
    "print(\"Accuracy: {:.2f}\".format(accuracy))\n",
    "print(\"Precision: {:.2f}\".format(precision))\n",
    "print(\"Recall: {:.2f}\".format(recall))\n",
    "print(\"F1 score: {:.2f}\".format(f1))"
   ]
  },
  {
   "cell_type": "code",
   "execution_count": 120,
   "metadata": {},
   "outputs": [
    {
     "name": "stdout",
     "output_type": "stream",
     "text": [
      "Confusion matrix:\n",
      " [[20575  4103]\n",
      " [ 2692 21986]]\n",
      "Accuracy: 0.86\n",
      "Precision: 0.84\n",
      "Recall: 0.89\n",
      "F1 score: 0.87\n"
     ]
    }
   ],
   "source": [
    "matrix = confusion_matrix(Z_test_oversampled,preds6_test)\n",
    "# compute the evaluation metrics\n",
    "accuracy = accuracy_score(Z_test_oversampled,preds6_test)\n",
    "precision = precision_score(Z_test_oversampled,preds6_test)\n",
    "recall = recall_score(Z_test_oversampled,preds6_test)\n",
    "f1 = f1_score(Z_test_oversampled,preds6_test)\n",
    "\n",
    "print(\"Confusion matrix:\\n\", matrix)\n",
    "print(\"Accuracy: {:.2f}\".format(accuracy))\n",
    "print(\"Precision: {:.2f}\".format(precision))\n",
    "print(\"Recall: {:.2f}\".format(recall))\n",
    "print(\"F1 score: {:.2f}\".format(f1))"
   ]
  },
  {
   "cell_type": "code",
   "execution_count": 121,
   "metadata": {},
   "outputs": [
    {
     "data": {
      "image/png": "[encoded data removed]",
      "text/plain": [
       "<Figure size 720x432 with 1 Axes>"
      ]
     },
     "metadata": {
      "needs_background": "light"
     },
     "output_type": "display_data"
    }
   ],
   "source": [
    "\n",
    "# Extract the feature importances\n",
    "feature_importances = pd.Series(dt.feature_importances_, index=X_train.columns).sort_values(ascending=False)\n",
    "\n",
    "\n",
    "# Visualize the feature importances\n",
    "fig, ax = plt.subplots(figsize=(10, 6))\n",
    "feature_importances[:10].plot.bar(ax=ax)\n",
    "ax.set_title('Feature Importances')\n",
    "ax.set_xlabel('Features')\n",
    "ax.set_ylabel('Importance')\n",
    "plt.show()"
   ]
  },
  {
   "cell_type": "code",
   "execution_count": 122,
   "metadata": {},
   "outputs": [
    {
     "name": "stderr",
     "output_type": "stream",
     "text": [
      "C:\\Users\\Lenovo\\anaconda3\\lib\\site-packages\\sklearn\\ensemble\\_base.py:166: FutureWarning: `base_estimator` was renamed to `estimator` in version 1.2 and will be removed in 1.4.\n",
      "  warnings.warn(\n"
     ]
    },
    {
     "name": "stdout",
     "output_type": "stream",
     "text": [
      "0.8763946472511545\n"
     ]
    }
   ],
   "source": [
    "# Train a Bagging classifier\n",
    "from sklearn.ensemble import BaggingClassifier\n",
    "base_dt = DecisionTreeClassifier(max_depth=10, random_state=42)\n",
    "bag = BaggingClassifier(base_estimator=base_dt, n_estimators=100, random_state=42)\n",
    "bag.fit(X_train_oversampled, X_test_oversampled)\n",
    "print(bag.score(X_train_oversampled,X_test_oversampled))\n",
    "# Evaluate the performance of the classifier\n",
    "preds7 = bag.predict(Y_valid_oversampled)\n",
    "preds7_test = bag.predict(Z_train_oversampled)"
   ]
  },
  {
   "cell_type": "code",
   "execution_count": 123,
   "metadata": {},
   "outputs": [
    {
     "name": "stdout",
     "output_type": "stream",
     "text": [
      "Confusion matrix:\n",
      " [[6170 1242]\n",
      " [ 778 6634]]\n",
      "Accuracy: 0.86\n",
      "Precision: 0.84\n",
      "Recall: 0.90\n",
      "F1 score: 0.87\n"
     ]
    }
   ],
   "source": [
    "# compute the confusion matrix\n",
    "matrix = confusion_matrix(Y_test_oversampled,preds7)\n",
    "# compute the evaluation metrics\n",
    "accuracy = accuracy_score(Y_test_oversampled,preds7)\n",
    "precision = precision_score(Y_test_oversampled,preds7)\n",
    "recall = recall_score(Y_test_oversampled,preds7)\n",
    "f1 = f1_score(Y_test_oversampled,preds7)\n",
    "\n",
    "print(\"Confusion matrix:\\n\", matrix)\n",
    "print(\"Accuracy: {:.2f}\".format(accuracy))\n",
    "print(\"Precision: {:.2f}\".format(precision))\n",
    "print(\"Recall: {:.2f}\".format(recall))\n",
    "print(\"F1 score: {:.2f}\".format(f1))"
   ]
  },
  {
   "cell_type": "code",
   "execution_count": 124,
   "metadata": {},
   "outputs": [
    {
     "name": "stdout",
     "output_type": "stream",
     "text": [
      "Confusion matrix:\n",
      " [[20759  3919]\n",
      " [ 2430 22248]]\n",
      "Accuracy: 0.87\n",
      "Precision: 0.85\n",
      "Recall: 0.90\n",
      "F1 score: 0.88\n"
     ]
    }
   ],
   "source": [
    "matrix = confusion_matrix(Z_test_oversampled,preds7_test)\n",
    "# compute the evaluation metrics\n",
    "accuracy = accuracy_score(Z_test_oversampled,preds7_test)\n",
    "precision = precision_score(Z_test_oversampled,preds7_test)\n",
    "recall = recall_score(Z_test_oversampled,preds7_test)\n",
    "f1 = f1_score(Z_test_oversampled,preds7_test)\n",
    "\n",
    "print(\"Confusion matrix:\\n\", matrix)\n",
    "print(\"Accuracy: {:.2f}\".format(accuracy))\n",
    "print(\"Precision: {:.2f}\".format(precision))\n",
    "print(\"Recall: {:.2f}\".format(recall))\n",
    "print(\"F1 score: {:.2f}\".format(f1))"
   ]
  },
  {
   "cell_type": "code",
   "execution_count": 125,
   "metadata": {},
   "outputs": [
    {
     "data": {
      "image/png": "[encoded data removed]",
      "text/plain": [
       "<Figure size 720x360 with 1 Axes>"
      ]
     },
     "metadata": {
      "needs_background": "light"
     },
     "output_type": "display_data"
    }
   ],
   "source": [
    "# Calculate feature importances using MDI\n",
    "importances = np.mean([tree.feature_importances_ for tree in bag.estimators_], axis=0)\n",
    "\n",
    "# Create a Pandas series to store the feature importances\n",
    "feature_importances = pd.Series(importances, index=X_train.columns).sort_values(ascending=False)\n",
    "top_10_features = feature_importances.head(10)\n",
    "\n",
    "# Visualize the feature importances\n",
    "plt.figure(figsize=(10, 5))\n",
    "sns.barplot(x=top_10_features.values, y=feature_importances.index[:10])\n",
    "plt.title('Feature Importances')\n",
    "plt.xlabel('Mean Decrease Impurity')\n",
    "plt.show()\n"
   ]
  },
  {
   "cell_type": "code",
   "execution_count": 126,
   "metadata": {},
   "outputs": [
    {
     "name": "stdout",
     "output_type": "stream",
     "text": [
      "0.9009168436309705\n"
     ]
    }
   ],
   "source": [
    "# Train a Boosting classifier by GradientBoostingClassifier\n",
    "from sklearn.ensemble import GradientBoostingClassifier\n",
    "#base_dt = DecisionTreeClassifier(max_depth=10, random_state=42)\n",
    "boost = GradientBoostingClassifier(n_estimators=500, random_state=42)\n",
    "boost.fit(X_train_oversampled, X_test_oversampled)\n",
    "print(boost.score(X_train_oversampled,X_test_oversampled))\n",
    "# Evaluate the performance of the classifier\n",
    "preds9 = boost.predict(Y_valid_oversampled)\n",
    "preds9_test = boost.predict(Z_train_oversampled)"
   ]
  },
  {
   "cell_type": "code",
   "execution_count": 127,
   "metadata": {},
   "outputs": [
    {
     "name": "stdout",
     "output_type": "stream",
     "text": [
      "Confusion matrix:\n",
      " [[6572  840]\n",
      " [ 649 6763]]\n",
      "Accuracy: 0.90\n",
      "Precision: 0.89\n",
      "Recall: 0.91\n",
      "F1 score: 0.90\n"
     ]
    }
   ],
   "source": [
    "# compute the confusion matrix\n",
    "matrix = confusion_matrix(Y_test_oversampled,preds9)\n",
    "# compute the evaluation metrics\n",
    "accuracy = accuracy_score(Y_test_oversampled,preds9)\n",
    "precision = precision_score(Y_test_oversampled,preds9)\n",
    "recall = recall_score(Y_test_oversampled,preds9)\n",
    "f1 = f1_score(Y_test_oversampled,preds9)\n",
    "\n",
    "print(\"Confusion matrix:\\n\", matrix)\n",
    "print(\"Accuracy: {:.2f}\".format(accuracy))\n",
    "print(\"Precision: {:.2f}\".format(precision))\n",
    "print(\"Recall: {:.2f}\".format(recall))\n",
    "print(\"F1 score: {:.2f}\".format(f1))"
   ]
  },
  {
   "cell_type": "code",
   "execution_count": 128,
   "metadata": {},
   "outputs": [
    {
     "name": "stdout",
     "output_type": "stream",
     "text": [
      "Confusion matrix:\n",
      " [[22045  2633]\n",
      " [ 2291 22387]]\n",
      "Accuracy: 0.90\n",
      "Precision: 0.89\n",
      "Recall: 0.91\n",
      "F1 score: 0.90\n"
     ]
    }
   ],
   "source": [
    "matrix = confusion_matrix(Z_test_oversampled,preds9_test)\n",
    "# compute the evaluation metrics\n",
    "accuracy = accuracy_score(Z_test_oversampled,preds9_test)\n",
    "precision = precision_score(Z_test_oversampled,preds9_test)\n",
    "recall = recall_score(Z_test_oversampled,preds9_test)\n",
    "f1 = f1_score(Z_test_oversampled,preds9_test)\n",
    "\n",
    "print(\"Confusion matrix:\\n\", matrix)\n",
    "print(\"Accuracy: {:.2f}\".format(accuracy))\n",
    "print(\"Precision: {:.2f}\".format(precision))\n",
    "print(\"Recall: {:.2f}\".format(recall))\n",
    "print(\"F1 score: {:.2f}\".format(f1))"
   ]
  },
  {
   "cell_type": "code",
   "execution_count": 129,
   "metadata": {},
   "outputs": [
    {
     "data": {
      "image/png": "[encoded data removed]",
      "text/plain": [
       "<Figure size 720x432 with 1 Axes>"
      ]
     },
     "metadata": {
      "needs_background": "light"
     },
     "output_type": "display_data"
    }
   ],
   "source": [
    "# Extract the feature importances\n",
    "feature_importances = pd.Series(boost.feature_importances_, index=X_train.columns).sort_values(ascending=False)\n",
    "\n",
    "\n",
    "# Visualize the feature importances\n",
    "fig, ax = plt.subplots(figsize=(10, 6))\n",
    "feature_importances[:10].plot.bar(ax=ax)\n",
    "ax.set_title('Feature Importances')\n",
    "ax.set_xlabel('Features')\n",
    "ax.set_ylabel('Importance')\n",
    "plt.show()"
   ]
  },
  {
   "cell_type": "code",
   "execution_count": 133,
   "metadata": {},
   "outputs": [
    {
     "name": "stderr",
     "output_type": "stream",
     "text": [
      "C:\\Users\\Lenovo\\anaconda3\\lib\\site-packages\\sklearn\\ensemble\\_base.py:166: FutureWarning: `base_estimator` was renamed to `estimator` in version 1.2 and will be removed in 1.4.\n",
      "  warnings.warn(\n"
     ]
    },
    {
     "name": "stdout",
     "output_type": "stream",
     "text": [
      "0.9998988775407018\n"
     ]
    }
   ],
   "source": [
    "# Train a Boosting classifier by AdaBoostClassifier\n",
    "from sklearn.ensemble import AdaBoostClassifier\n",
    "base_dt = DecisionTreeClassifier(max_depth=10, random_state=42)\n",
    "adboost = AdaBoostClassifier(base_estimator=base_dt, n_estimators=500, random_state=42)\n",
    "adboost.fit(X_train_oversampled, X_test_oversampled)\n",
    "print(adboost.score(X_train_oversampled,X_test_oversampled))\n",
    "# Evaluate the performance of the classifier\n",
    "preds10 = adboost.predict(Y_valid_oversampled)\n",
    "preds10_test = adboost.predict(Z_train_oversampled)"
   ]
  },
  {
   "cell_type": "code",
   "execution_count": 135,
   "metadata": {},
   "outputs": [
    {
     "name": "stdout",
     "output_type": "stream",
     "text": [
      "Confusion matrix:\n",
      " [[6617  795]\n",
      " [ 875 6537]]\n",
      "Accuracy: 0.89\n",
      "Precision: 0.89\n",
      "Recall: 0.88\n",
      "F1 score: 0.89\n"
     ]
    }
   ],
   "source": [
    "# compute the confusion matrix\n",
    "matrix = confusion_matrix(Y_test_oversampled,preds10)\n",
    "# compute the evaluation metrics\n",
    "accuracy = accuracy_score(Y_test_oversampled,preds10)\n",
    "precision = precision_score(Y_test_oversampled,preds10)\n",
    "recall = recall_score(Y_test_oversampled,preds10)\n",
    "f1 = f1_score(Y_test_oversampled,preds10)\n",
    "\n",
    "print(\"Confusion matrix:\\n\", matrix)\n",
    "print(\"Accuracy: {:.2f}\".format(accuracy))\n",
    "print(\"Precision: {:.2f}\".format(precision))\n",
    "print(\"Recall: {:.2f}\".format(recall))\n",
    "print(\"F1 score: {:.2f}\".format(f1))"
   ]
  },
  {
   "cell_type": "code",
   "execution_count": 134,
   "metadata": {},
   "outputs": [
    {
     "name": "stdout",
     "output_type": "stream",
     "text": [
      "Confusion matrix:\n",
      " [[24157   521]\n",
      " [  822 23856]]\n",
      "Accuracy: 0.97\n",
      "Precision: 0.98\n",
      "Recall: 0.97\n",
      "F1 score: 0.97\n"
     ]
    }
   ],
   "source": [
    "matrix = confusion_matrix(Z_test_oversampled,preds10_test)\n",
    "# compute the evaluation metrics\n",
    "accuracy = accuracy_score(Z_test_oversampled,preds10_test)\n",
    "precision = precision_score(Z_test_oversampled,preds10_test)\n",
    "recall = recall_score(Z_test_oversampled,preds10_test)\n",
    "f1 = f1_score(Z_test_oversampled,preds10_test)\n",
    "\n",
    "print(\"Confusion matrix:\\n\", matrix)\n",
    "print(\"Accuracy: {:.2f}\".format(accuracy))\n",
    "print(\"Precision: {:.2f}\".format(precision))\n",
    "print(\"Recall: {:.2f}\".format(recall))\n",
    "print(\"F1 score: {:.2f}\".format(f1))"
   ]
  },
  {
   "cell_type": "code",
   "execution_count": 136,
   "metadata": {},
   "outputs": [
    {
     "data": {
      "image/png": "[encoded data removed]",
      "text/plain": [
       "<Figure size 720x432 with 1 Axes>"
      ]
     },
     "metadata": {
      "needs_background": "light"
     },
     "output_type": "display_data"
    }
   ],
   "source": [
    "# Extract the feature importances\n",
    "feature_importances = pd.Series(boost.feature_importances_, index=X_train.columns).sort_values(ascending=False)\n",
    "\n",
    "\n",
    "# Visualize the feature importances\n",
    "fig, ax = plt.subplots(figsize=(10, 6))\n",
    "feature_importances[:10].plot.bar(ax=ax)\n",
    "ax.set_title('Feature Importances')\n",
    "ax.set_xlabel('Features')\n",
    "ax.set_ylabel('Importance')\n",
    "plt.show()"
   ]
  },
  {
   "cell_type": "code",
   "execution_count": 138,
   "metadata": {},
   "outputs": [
    {
     "data": {
      "text/html": [
       "<div>\n",
       "<style scoped>\n",
       "    .dataframe tbody tr th:only-of-type {\n",
       "        vertical-align: middle;\n",
       "    }\n",
       "\n",
       "    .dataframe tbody tr th {\n",
       "        vertical-align: top;\n",
       "    }\n",
       "\n",
       "    .dataframe thead th {\n",
       "        text-align: right;\n",
       "    }\n",
       "</style>\n",
       "<table border=\"1\" class=\"dataframe\">\n",
       "  <thead>\n",
       "    <tr style=\"text-align: right;\">\n",
       "      <th></th>\n",
       "      <th>Actual</th>\n",
       "      <th>Logistic</th>\n",
       "      <th>PCA+GNB</th>\n",
       "      <th>MNB</th>\n",
       "      <th>rf</th>\n",
       "      <th>adboost</th>\n",
       "      <th>boost</th>\n",
       "      <th>bag</th>\n",
       "      <th>dt</th>\n",
       "    </tr>\n",
       "  </thead>\n",
       "  <tbody>\n",
       "    <tr>\n",
       "      <th>0</th>\n",
       "      <td>0</td>\n",
       "      <td>1</td>\n",
       "      <td>0</td>\n",
       "      <td>0</td>\n",
       "      <td>0</td>\n",
       "      <td>0</td>\n",
       "      <td>0</td>\n",
       "      <td>0</td>\n",
       "      <td>0</td>\n",
       "    </tr>\n",
       "    <tr>\n",
       "      <th>1</th>\n",
       "      <td>0</td>\n",
       "      <td>1</td>\n",
       "      <td>1</td>\n",
       "      <td>1</td>\n",
       "      <td>1</td>\n",
       "      <td>0</td>\n",
       "      <td>0</td>\n",
       "      <td>0</td>\n",
       "      <td>1</td>\n",
       "    </tr>\n",
       "    <tr>\n",
       "      <th>2</th>\n",
       "      <td>0</td>\n",
       "      <td>0</td>\n",
       "      <td>0</td>\n",
       "      <td>0</td>\n",
       "      <td>0</td>\n",
       "      <td>0</td>\n",
       "      <td>0</td>\n",
       "      <td>0</td>\n",
       "      <td>0</td>\n",
       "    </tr>\n",
       "    <tr>\n",
       "      <th>3</th>\n",
       "      <td>0</td>\n",
       "      <td>0</td>\n",
       "      <td>0</td>\n",
       "      <td>0</td>\n",
       "      <td>0</td>\n",
       "      <td>0</td>\n",
       "      <td>0</td>\n",
       "      <td>0</td>\n",
       "      <td>0</td>\n",
       "    </tr>\n",
       "    <tr>\n",
       "      <th>4</th>\n",
       "      <td>0</td>\n",
       "      <td>0</td>\n",
       "      <td>0</td>\n",
       "      <td>0</td>\n",
       "      <td>1</td>\n",
       "      <td>0</td>\n",
       "      <td>1</td>\n",
       "      <td>1</td>\n",
       "      <td>1</td>\n",
       "    </tr>\n",
       "  </tbody>\n",
       "</table>\n",
       "</div>"
      ],
      "text/plain": [
       "   Actual  Logistic  PCA+GNB  MNB  rf  adboost  boost  bag  dt\n",
       "0       0         1        0    0   0        0      0    0   0\n",
       "1       0         1        1    1   1        0      0    0   1\n",
       "2       0         0        0    0   0        0      0    0   0\n",
       "3       0         0        0    0   0        0      0    0   0\n",
       "4       0         0        0    0   1        0      1    1   1"
      ]
     },
     "execution_count": 138,
     "metadata": {},
     "output_type": "execute_result"
    }
   ],
   "source": [
    "#df4 = pd.DataFrame({'Actual':Z_test_oversampled,'Logistic':preds1_test,'SVC':preds2_test,'PCA+GNB':preds8_test, 'MNB' :preds4_test, 'rf':preds5_test, 'adboost':preds10_test, 'boost':preds9_test, 'bag':preds7_test, 'dt':preds6_test})\n",
    "df4 = pd.DataFrame({'Actual':Z_test_oversampled,'Logistic':preds1_test,'PCA+GNB':preds8_test, 'MNB' :preds4_test, 'rf':preds5_test, 'adboost':preds10_test, 'boost':preds9_test, 'bag':preds7_test, 'dt':preds6_test})\n",
    "df4.head()"
   ]
  },
  {
   "cell_type": "code",
   "execution_count": 145,
   "metadata": {},
   "outputs": [
    {
     "data": {
      "image/png": "[encoded data removed]",
      "text/plain": [
       "<Figure size 432x288 with 1 Axes>"
      ]
     },
     "metadata": {
      "needs_background": "light"
     },
     "output_type": "display_data"
    }
   ],
   "source": [
    "from sklearn.metrics import roc_curve, auc\n",
    "import matplotlib.pyplot as plt\n",
    "\n",
    "# Calculate the false positive rate, true positive rate, and threshold for each model\n",
    "fpr_rf, tpr_rf, thresholds_rf = roc_curve(Z_test_oversampled, preds5_test)\n",
    "fpr_dt, tpr_dt, thresholds_dt = roc_curve(Z_test_oversampled, preds6_test)\n",
    "fpr_boost, tpr_boost, thresholds_boost = roc_curve(Z_test_oversampled, preds9_test)\n",
    "fpr_adboost, tpr_adboost, thresholds_adboost = roc_curve(Z_test_oversampled, preds10_test)\n",
    "\n",
    "# Calculate the AUC score for each model\n",
    "auc_rf = auc(fpr_rf, tpr_rf)\n",
    "auc_dt = auc(fpr_dt, tpr_dt)\n",
    "auc_boost = auc(fpr_boost, tpr_boost)\n",
    "auc_adboost = auc(fpr_adboost, tpr_adboost)\n",
    "\n",
    "# Plot the ROC AUC curves for each model\n",
    "plt.plot(fpr_rf, tpr_rf, label=f'Random Forest (AUC = {auc_rf:.2f})')\n",
    "plt.plot(fpr_dt, tpr_dt, label=f'Decision Tree (AUC = {auc_dt:.2f})')\n",
    "plt.plot(fpr_boost, tpr_boost, label=f'Gradint Boosting (AUC = {auc_boost:.2f})')\n",
    "plt.plot(fpr_adboost, tpr_adboost, label=f'AdaBoost (AUC = {auc_adboost:.2f})')\n",
    "plt.plot([0, 1], [0, 1], linestyle='--', color='gray', label='Random Guess')\n",
    "\n",
    "plt.xlabel('False Positive Rate')\n",
    "plt.ylabel('True Positive Rate')\n",
    "plt.title('ROC Curve')\n",
    "plt.legend()\n",
    "plt.show()"
   ]
  },
  {
   "cell_type": "code",
   "execution_count": 156,
   "metadata": {},
   "outputs": [
    {
     "data": {
      "text/html": [
       "<div>\n",
       "<style scoped>\n",
       "    .dataframe tbody tr th:only-of-type {\n",
       "        vertical-align: middle;\n",
       "    }\n",
       "\n",
       "    .dataframe tbody tr th {\n",
       "        vertical-align: top;\n",
       "    }\n",
       "\n",
       "    .dataframe thead th {\n",
       "        text-align: right;\n",
       "    }\n",
       "</style>\n",
       "<table border=\"1\" class=\"dataframe\">\n",
       "  <thead>\n",
       "    <tr style=\"text-align: right;\">\n",
       "      <th></th>\n",
       "      <th>Logistic</th>\n",
       "      <th>PCA+GNB</th>\n",
       "      <th>MNB</th>\n",
       "      <th>rf</th>\n",
       "      <th>adboost</th>\n",
       "      <th>boost</th>\n",
       "      <th>bag</th>\n",
       "      <th>dt</th>\n",
       "    </tr>\n",
       "  </thead>\n",
       "  <tbody>\n",
       "    <tr>\n",
       "      <th>Accuracy</th>\n",
       "      <td>79.732961</td>\n",
       "      <td>73.381149</td>\n",
       "      <td>74.074074</td>\n",
       "      <td>84.976497</td>\n",
       "      <td>97.278953</td>\n",
       "      <td>90.023503</td>\n",
       "      <td>87.136316</td>\n",
       "      <td>86.232677</td>\n",
       "    </tr>\n",
       "    <tr>\n",
       "      <th>Precision</th>\n",
       "      <td>78.814059</td>\n",
       "      <td>72.779313</td>\n",
       "      <td>70.681612</td>\n",
       "      <td>81.130306</td>\n",
       "      <td>97.862739</td>\n",
       "      <td>89.476419</td>\n",
       "      <td>85.023121</td>\n",
       "      <td>84.273065</td>\n",
       "    </tr>\n",
       "    <tr>\n",
       "      <th>Recall</th>\n",
       "      <td>81.327498</td>\n",
       "      <td>74.702164</td>\n",
       "      <td>82.275711</td>\n",
       "      <td>91.154064</td>\n",
       "      <td>96.669098</td>\n",
       "      <td>90.716428</td>\n",
       "      <td>90.153173</td>\n",
       "      <td>89.091499</td>\n",
       "    </tr>\n",
       "    <tr>\n",
       "      <th>F1Score</th>\n",
       "      <td>80.051054</td>\n",
       "      <td>73.728203</td>\n",
       "      <td>76.039248</td>\n",
       "      <td>85.850587</td>\n",
       "      <td>97.262257</td>\n",
       "      <td>90.092157</td>\n",
       "      <td>87.513030</td>\n",
       "      <td>86.615321</td>\n",
       "    </tr>\n",
       "  </tbody>\n",
       "</table>\n",
       "</div>"
      ],
      "text/plain": [
       "            Logistic    PCA+GNB        MNB         rf    adboost      boost  \\\n",
       "Accuracy   79.732961  73.381149  74.074074  84.976497  97.278953  90.023503   \n",
       "Precision  78.814059  72.779313  70.681612  81.130306  97.862739  89.476419   \n",
       "Recall     81.327498  74.702164  82.275711  91.154064  96.669098  90.716428   \n",
       "F1Score    80.051054  73.728203  76.039248  85.850587  97.262257  90.092157   \n",
       "\n",
       "                 bag         dt  \n",
       "Accuracy   87.136316  86.232677  \n",
       "Precision  85.023121  84.273065  \n",
       "Recall     90.153173  89.091499  \n",
       "F1Score    87.513030  86.615321  "
      ]
     },
     "execution_count": 156,
     "metadata": {},
     "output_type": "execute_result"
    }
   ],
   "source": [
    "#results = {'Logistic':accuracy_score(Z_test_oversampled, preds1_test)*100,'SVC':accuracy_score(Y_test_oversampled, preds2_test)*100,'PCA+GNB':accuracy_score(Y_test_oversampled, preds8_test)*100,'MNB':accuracy_score(Y_test_oversampled, preds4_test)*100,'rf':accuracy_score(Y_test_oversampled, preds5_test)*100,'adboost':accuracy_score(Y_test_oversampled, preds10_test)*100,'boost':accuracy_score(Y_test_oversampled, preds9_test)*100,'bag':accuracy_score(Y_test_oversampled, preds7_test)*100,'dt':accuracy_score(Y_test_oversampled, preds6_test)*100}\n",
    "results = [{'Logistic':accuracy_score(Z_test_oversampled, preds1_test)*100,'PCA+GNB':accuracy_score(Z_test_oversampled, preds8_test)*100,'MNB':accuracy_score(Z_test_oversampled, preds4_test)*100,'rf':accuracy_score(Z_test_oversampled, preds5_test)*100,'adboost':accuracy_score(Z_test_oversampled, preds10_test)*100,'boost':accuracy_score(Z_test_oversampled, preds9_test)*100,'bag':accuracy_score(Z_test_oversampled, preds7_test)*100,'dt':accuracy_score(Z_test_oversampled, preds6_test)*100},{'Logistic':precision_score(Z_test_oversampled, preds1_test)*100,'PCA+GNB':precision_score(Z_test_oversampled, preds8_test)*100,'MNB':precision_score(Z_test_oversampled, preds4_test)*100,'rf':precision_score(Z_test_oversampled, preds5_test)*100,'adboost':precision_score(Z_test_oversampled, preds10_test)*100,'boost':precision_score(Z_test_oversampled, preds9_test)*100,'bag':precision_score(Z_test_oversampled, preds7_test)*100,'dt':precision_score(Z_test_oversampled, preds6_test)*100},{'Logistic':recall_score(Z_test_oversampled, preds1_test)*100,'PCA+GNB':recall_score(Z_test_oversampled, preds8_test)*100,'MNB':recall_score(Z_test_oversampled, preds4_test)*100,'rf':recall_score(Z_test_oversampled, preds5_test)*100,'adboost':recall_score(Z_test_oversampled, preds10_test)*100,'boost':recall_score(Z_test_oversampled, preds9_test)*100,'bag':recall_score(Z_test_oversampled, preds7_test)*100,'dt':recall_score(Z_test_oversampled, preds6_test)*100},{'Logistic':f1_score(Z_test_oversampled, preds1_test)*100,'PCA+GNB':f1_score(Z_test_oversampled, preds8_test)*100,'MNB':f1_score(Z_test_oversampled, preds4_test)*100,'rf':f1_score(Z_test_oversampled, preds5_test)*100,'adboost':f1_score(Z_test_oversampled, preds10_test)*100,'boost':f1_score(Z_test_oversampled, preds9_test)*100,'bag':f1_score(Z_test_oversampled, preds7_test)*100,'dt':f1_score(Z_test_oversampled, preds6_test)*100}]\n",
    "\n",
    "results=pd.DataFrame(results,index=['Accuracy','Precision','Recall','F1Score'])\n",
    "results"
   ]
  }
 ],
 "metadata": {
  "kernelspec": {
   "display_name": "Python 3",
   "language": "python",
   "name": "python3"
  },
  "language_info": {
   "codemirror_mode": {
    "name": "ipython",
    "version": 3
   },
   "file_extension": ".py",
   "mimetype": "text/x-python",
   "name": "python",
   "nbconvert_exporter": "python",
   "pygments_lexer": "ipython3",
   "version": "3.8.5"
  }
 },
 "nbformat": 4,
 "nbformat_minor": 4
}
